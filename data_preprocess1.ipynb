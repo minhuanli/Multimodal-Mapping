{
 "cells": [
  {
   "cell_type": "markdown",
   "metadata": {},
   "source": [
    "### Steps:\n",
    "\n",
    "0.1 download sparse mouse single-cell data from https://www.ebi.ac.uk/arrayexpress/experiments/E-MTAB-6967/\n",
    "\n",
    "0.2 Read and Operate the large sparse matrix on the cluster\n",
    "\n",
    "1. down sample to N reads per cell (keep $\\ge 90\\%$ or $100,000$ reads/cell)\n",
    "\n",
    "\n",
    "2. Gene Filter. throw out genes ($\\mu < 0.05 x(M)$ and $\\sigma < 0.05$)\n",
    "\n",
    "\n",
    "3. $\\log_2(1+X)$\n",
    "\n",
    "\n",
    "4. z-score normalize\n"
   ]
  },
  {
   "cell_type": "markdown",
   "metadata": {},
   "source": [
    "### 0. read the data and print some necessary info"
   ]
  },
  {
   "cell_type": "code",
   "execution_count": 2,
   "metadata": {},
   "outputs": [
    {
     "name": "stdout",
     "output_type": "stream",
     "text": [
      "(29452, 139331, 483512215, 'coordinate', 'integer', 'general')\n",
      "0.11782702279423168\n",
      "202262147072\n",
      "28.9\n"
     ]
    }
   ],
   "source": [
    "from scipy.io import mmread,mminfo\n",
    "\n",
    "# the info of the matrix\n",
    "info = mminfo(r'atlas/raw_counts.mtx')\n",
    "print(info)\n",
    "print(info[2]/(info[0]*info[1]))\n",
    "\n",
    "# read in the matrix\n",
    "data = mmread(r'atlas/raw_counts.mtx')\n",
    "\n",
    "# memory status\n",
    "info = psutil.virtual_memory()\n",
    "print(info.total)\n",
    "print(info.percent)"
   ]
  },
  {
   "cell_type": "markdown",
   "metadata": {},
   "source": [
    "So the origin matrix has dimension $[29452,139331]$, where only $483512215$ entries are nonzeros, $11.78\\%$. \n",
    "\n",
    "And the encoding form of the matrix is 'coordinate'. And all the entries are integers, which is natural because they are all counts.  \n",
    "\n",
    "The matrix read takes long long time."
   ]
  },
  {
   "cell_type": "code",
   "execution_count": 3,
   "metadata": {},
   "outputs": [
    {
     "name": "stdout",
     "output_type": "stream",
     "text": [
      "(29452, 2)\n",
      "[['ENSMUSG00000002459' 'Rgs20']\n",
      " ['ENSMUSG00000085623' 'Gm16041']\n",
      " ['ENSMUSG00000033793' 'Atp6v1h']\n",
      " ['ENSMUSG00000025905' 'Oprk1']\n",
      " ['ENSMUSG00000033774' 'Npbwr1']]\n"
     ]
    }
   ],
   "source": [
    "import scipy as sp\n",
    "\n",
    "# the gene info \n",
    "geneinfo = sp.genfromtxt(r'atlas/genes.tsv',dtype=str)\n",
    "print(geneinfo.shape)\n",
    "print(geneinfo[10:15,:])"
   ]
  },
  {
   "cell_type": "code",
   "execution_count": 7,
   "metadata": {},
   "outputs": [],
   "source": [
    "# the meta data\n",
    "import pandas as pd\n",
    "metadata = pd.read_csv(r'atlas/meta.csv',index_col=0,header=0,low_memory=False)"
   ]
  },
  {
   "cell_type": "code",
   "execution_count": 8,
   "metadata": {},
   "outputs": [
    {
     "name": "stdout",
     "output_type": "stream",
     "text": [
      "(139331, 27)\n",
      "Index(['barcode', 'sample', 'stage', 'sequencing.batch', 'theiler'], dtype='object')\n",
      "AAAGGCCTCCACAA\n",
      "202262147072\n",
      "27.3\n"
     ]
    },
    {
     "data": {
      "text/html": [
       "<div>\n",
       "<style scoped>\n",
       "    .dataframe tbody tr th:only-of-type {\n",
       "        vertical-align: middle;\n",
       "    }\n",
       "\n",
       "    .dataframe tbody tr th {\n",
       "        vertical-align: top;\n",
       "    }\n",
       "\n",
       "    .dataframe thead th {\n",
       "        text-align: right;\n",
       "    }\n",
       "</style>\n",
       "<table border=\"1\" class=\"dataframe\">\n",
       "  <thead>\n",
       "    <tr style=\"text-align: right;\">\n",
       "      <th></th>\n",
       "      <th>barcode</th>\n",
       "      <th>sample</th>\n",
       "      <th>stage</th>\n",
       "      <th>sequencing.batch</th>\n",
       "      <th>theiler</th>\n",
       "      <th>doub.density</th>\n",
       "      <th>doublet</th>\n",
       "      <th>cluster</th>\n",
       "      <th>cluster.sub</th>\n",
       "      <th>cluster.stage</th>\n",
       "      <th>...</th>\n",
       "      <th>haem_gephiY</th>\n",
       "      <th>haem_subclust</th>\n",
       "      <th>endo_gephiX</th>\n",
       "      <th>endo_gephiY</th>\n",
       "      <th>endo_trajectoryName</th>\n",
       "      <th>endo_trajectoryDPT</th>\n",
       "      <th>endo_gutX</th>\n",
       "      <th>endo_gutY</th>\n",
       "      <th>endo_gutDPT</th>\n",
       "      <th>endo_gutCluster</th>\n",
       "    </tr>\n",
       "    <tr>\n",
       "      <th>cell</th>\n",
       "      <th></th>\n",
       "      <th></th>\n",
       "      <th></th>\n",
       "      <th></th>\n",
       "      <th></th>\n",
       "      <th></th>\n",
       "      <th></th>\n",
       "      <th></th>\n",
       "      <th></th>\n",
       "      <th></th>\n",
       "      <th></th>\n",
       "      <th></th>\n",
       "      <th></th>\n",
       "      <th></th>\n",
       "      <th></th>\n",
       "      <th></th>\n",
       "      <th></th>\n",
       "      <th></th>\n",
       "      <th></th>\n",
       "      <th></th>\n",
       "      <th></th>\n",
       "    </tr>\n",
       "  </thead>\n",
       "  <tbody>\n",
       "    <tr>\n",
       "      <th>cell_1</th>\n",
       "      <td>AAAGGCCTCCACAA</td>\n",
       "      <td>1</td>\n",
       "      <td>E6.5</td>\n",
       "      <td>1</td>\n",
       "      <td>TS9</td>\n",
       "      <td>0.043114</td>\n",
       "      <td>False</td>\n",
       "      <td>2.0</td>\n",
       "      <td>4.0</td>\n",
       "      <td>2.0</td>\n",
       "      <td>...</td>\n",
       "      <td>NaN</td>\n",
       "      <td>NaN</td>\n",
       "      <td>NaN</td>\n",
       "      <td>NaN</td>\n",
       "      <td>NaN</td>\n",
       "      <td>NaN</td>\n",
       "      <td>NaN</td>\n",
       "      <td>NaN</td>\n",
       "      <td>NaN</td>\n",
       "      <td>NaN</td>\n",
       "    </tr>\n",
       "    <tr>\n",
       "      <th>cell_2</th>\n",
       "      <td>AACAAACTCGCCTT</td>\n",
       "      <td>1</td>\n",
       "      <td>E6.5</td>\n",
       "      <td>1</td>\n",
       "      <td>TS9</td>\n",
       "      <td>1.129713</td>\n",
       "      <td>False</td>\n",
       "      <td>12.0</td>\n",
       "      <td>1.0</td>\n",
       "      <td>1.0</td>\n",
       "      <td>...</td>\n",
       "      <td>NaN</td>\n",
       "      <td>NaN</td>\n",
       "      <td>NaN</td>\n",
       "      <td>NaN</td>\n",
       "      <td>NaN</td>\n",
       "      <td>NaN</td>\n",
       "      <td>NaN</td>\n",
       "      <td>NaN</td>\n",
       "      <td>NaN</td>\n",
       "      <td>NaN</td>\n",
       "    </tr>\n",
       "  </tbody>\n",
       "</table>\n",
       "<p>2 rows × 27 columns</p>\n",
       "</div>"
      ],
      "text/plain": [
       "               barcode  sample stage  sequencing.batch theiler  doub.density  \\\n",
       "cell                                                                           \n",
       "cell_1  AAAGGCCTCCACAA       1  E6.5                 1     TS9      0.043114   \n",
       "cell_2  AACAAACTCGCCTT       1  E6.5                 1     TS9      1.129713   \n",
       "\n",
       "        doublet  cluster  cluster.sub  cluster.stage  ...  haem_gephiY  \\\n",
       "cell                                                  ...                \n",
       "cell_1    False      2.0          4.0            2.0  ...          NaN   \n",
       "cell_2    False     12.0          1.0            1.0  ...          NaN   \n",
       "\n",
       "        haem_subclust endo_gephiX endo_gephiY  endo_trajectoryName  \\\n",
       "cell                                                                 \n",
       "cell_1            NaN         NaN         NaN                  NaN   \n",
       "cell_2            NaN         NaN         NaN                  NaN   \n",
       "\n",
       "        endo_trajectoryDPT  endo_gutX  endo_gutY endo_gutDPT  endo_gutCluster  \n",
       "cell                                                                           \n",
       "cell_1                 NaN        NaN        NaN         NaN              NaN  \n",
       "cell_2                 NaN        NaN        NaN         NaN              NaN  \n",
       "\n",
       "[2 rows x 27 columns]"
      ]
     },
     "execution_count": 8,
     "metadata": {},
     "output_type": "execute_result"
    }
   ],
   "source": [
    "print(metadata.shape)\n",
    "print(metadata.columns[0:5])\n",
    "print(metadata.barcode[0])\n",
    "\n",
    "# memory status\n",
    "info = psutil.virtual_memory()\n",
    "print(info.total)\n",
    "print(info.percent)\n",
    "\n",
    "metadata.head(n=2)"
   ]
  },
  {
   "cell_type": "markdown",
   "metadata": {},
   "source": [
    "The above two data give some details information about the cells and genes."
   ]
  },
  {
   "cell_type": "markdown",
   "metadata": {},
   "source": [
    "### 0.1. Operating the large sparse matrix 'data'\n",
    "\n",
    "The sparse matrix is already read and stored in the sparse matrix variable 'data', using COOrdinate format, $483512215$ elements.\n",
    "\n",
    "Change the COO sparse matrix into CSR format, for efficient row operating. Now we can use the variable `mtx` in future processing."
   ]
  },
  {
   "cell_type": "code",
   "execution_count": 4,
   "metadata": {},
   "outputs": [
    {
     "data": {
      "text/plain": [
       "<29452x139331 sparse matrix of type '<class 'numpy.int64'>'\n",
       "\twith 483512215 stored elements in COOrdinate format>"
      ]
     },
     "execution_count": 4,
     "metadata": {},
     "output_type": "execute_result"
    }
   ],
   "source": [
    "data"
   ]
  },
  {
   "cell_type": "code",
   "execution_count": 5,
   "metadata": {},
   "outputs": [
    {
     "name": "stdout",
     "output_type": "stream",
     "text": [
      "202262147072\n",
      "32.1\n"
     ]
    }
   ],
   "source": [
    "mtx = data.tocsr()\n",
    "\n",
    "# memory status\n",
    "info = psutil.virtual_memory()\n",
    "print(info.total)\n",
    "print(info.percent)"
   ]
  },
  {
   "cell_type": "code",
   "execution_count": null,
   "metadata": {},
   "outputs": [],
   "source": [
    "import numpy as np\n",
    "print(mtx[0:20,0])\n",
    "print('total gene counts for', metadata.index[100],'is',np.sum(mtx[:,100]))"
   ]
  },
  {
   "cell_type": "markdown",
   "metadata": {},
   "source": [
    "### 1. downsample to 10000 reads per cell (keep  ≥ $90\\%$  or  100,000  reads/cell)"
   ]
  },
  {
   "cell_type": "markdown",
   "metadata": {},
   "source": [
    "#### 1.1 drop cells with gene < 10000"
   ]
  },
  {
   "cell_type": "code",
   "execution_count": 7,
   "metadata": {},
   "outputs": [
    {
     "name": "stdout",
     "output_type": "stream",
     "text": [
      "(139331,)\n",
      "113803\n"
     ]
    }
   ],
   "source": [
    "genect = np.sum(mtx,axis=0)\n",
    "genect = np.array(genect)[0]\n",
    "print(genect.shape)\n",
    "w = np.where(genect > 10000)  # select cells with gene > 10000\n",
    "print(np.size(w))"
   ]
  },
  {
   "cell_type": "code",
   "execution_count": 8,
   "metadata": {},
   "outputs": [
    {
     "name": "stdout",
     "output_type": "stream",
     "text": [
      "202262147072\n",
      "31.6\n"
     ]
    },
    {
     "data": {
      "text/plain": [
       "(29452, 113803)"
      ]
     },
     "execution_count": 8,
     "metadata": {},
     "output_type": "execute_result"
    }
   ],
   "source": [
    "genect = genect[w]\n",
    "mtx = mtx[:,tuple(np.array(w).reshape(-1))]\n",
    "\n",
    "# memory status\n",
    "info = psutil.virtual_memory()\n",
    "print(info.total)\n",
    "print(info.percent)\n",
    "\n",
    "mtx.shape"
   ]
  },
  {
   "cell_type": "code",
   "execution_count": 159,
   "metadata": {},
   "outputs": [
    {
     "data": {
      "image/png": "[encoded data removed]",
      "text/plain": [
       "<Figure size 480x320 with 1 Axes>"
      ]
     },
     "metadata": {
      "needs_background": "light"
     },
     "output_type": "display_data"
    }
   ],
   "source": [
    "import matplotlib.pyplot as plt\n",
    "\n",
    "plt.figure(dpi=80)\n",
    "plt.title('Histogram of Gene Count Number Per Cell',fontsize=18)\n",
    "plt.xlabel('Gene Count N',fontsize=15)\n",
    "plt.ylabel('Cell Number',fontsize=15)\n",
    "plt.xlim([0,80000])\n",
    "plt.hist(genect,bins=100,range=(0,70000))\n",
    "plt.plot([10000,10000],[0,8000],'r--',label='N = 10000')\n",
    "plt.legend(fontsize=15)\n",
    "plt.savefig(r'1.png',format='png')"
   ]
  },
  {
   "cell_type": "markdown",
   "metadata": {},
   "source": [
    "#### 1.2  randomly sample 10,000 reads for each cell"
   ]
  },
  {
   "cell_type": "markdown",
   "metadata": {},
   "source": [
    "Now we only have cells with more than $10,000$ genes. For downsampling, we randomly select $10,000$ reads for each cell. With the following codes."
   ]
  },
  {
   "cell_type": "code",
   "execution_count": 151,
   "metadata": {},
   "outputs": [],
   "source": [
    "# This is a function to downsample a numpy count array\n",
    "# data is the origin numpy array for downsampling; sum(data) = N\n",
    "# M is the target counts for downsample, we want sum(res)=M\n",
    "def downsample1(data,M,batch0=50000):\n",
    "    \n",
    "    res = data.copy()\n",
    "    N = np.shape(res)[0]\n",
    "    \n",
    "    while res.sum()>M:\n",
    "        weights = res/res.sum()\n",
    "        batch = np.min([batch0,res.sum()-M])\n",
    "        c = np.random.choice(np.arange(N),size=batch,p=weights.toarray().reshape(-1))\n",
    "        res[c] -= (res[c]>0).astype(np.int)\n",
    "        res[res<0]=0\n",
    "    return(res)\n",
    "\n",
    "def downsample2(data,M,dim=29452):\n",
    "    \n",
    "    res = np.zeros(dim)\n",
    "    \n",
    "    temp = data.copy().toarray()\n",
    "    \n",
    "    weights = temp/temp.sum()\n",
    "    \n",
    "    c = np.random.choice(np.arange(dim),size=M,p=weights.reshape(-1))\n",
    "    \n",
    "    for i in c:\n",
    "        res[i] += 1\n",
    "    \n",
    "    return(np.transpose(sp.sparse.csr_matrix(res)))\n",
    "\n",
    "\n",
    "from tqdm import tqdm\n",
    "M = 10000 # target summation\n",
    "\n",
    "# downsample the whole sparse matrix\n",
    "for i in tqdm(range(mtx.shape[1])):\n",
    "    mtx[:,i] = downsample2(mtx[:,i],M)\n",
    "\n",
    "sp.io.mmwrite(r'/n/home06/minhuan/test/Multi_Model_Mapping/2.mtx',mtx1,field='integer')"
   ]
  },
  {
   "cell_type": "markdown",
   "metadata": {},
   "source": [
    "The above cell takes about 24 Hours, so i submit to the cluster as a job. The following steps starts in the next file."
   ]
  }
 ],
 "metadata": {
  "kernelspec": {
   "display_name": "Python [conda env:test]",
   "language": "python",
   "name": "conda-env-test-py"
  },
  "language_info": {
   "codemirror_mode": {
    "name": "ipython",
    "version": 3
   },
   "file_extension": ".py",
   "mimetype": "text/x-python",
   "name": "python",
   "nbconvert_exporter": "python",
   "pygments_lexer": "ipython3",
   "version": "3.6.9"
  }
 },
 "nbformat": 4,
 "nbformat_minor": 2
}
