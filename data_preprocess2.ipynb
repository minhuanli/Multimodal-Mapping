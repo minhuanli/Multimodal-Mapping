{
 "cells": [
  {
   "cell_type": "markdown",
   "metadata": {},
   "source": [
    "### Steps:\n",
    "\n",
    "0.1 download sparse mouse single-cell data from https://www.ebi.ac.uk/arrayexpress/experiments/E-MTAB-6967/\n",
    "\n",
    "0.2 Read and Operate the large sparse matrix on the cluster\n",
    "\n",
    "1. down sample to $10,000$ reads per cell (keep $\\ge 90\\%$ or $100,000$ reads/cell)\n",
    "\n",
    "\n",
    "2. Gene Filter. throw out genes ($\\mu < 0.05 x(M)$ and $\\sigma < 0.05$)\n",
    "\n",
    "\n",
    "3. $\\log_2(1+X)$\n",
    "\n",
    "\n",
    "4. z-score normalize"
   ]
  },
  {
   "cell_type": "markdown",
   "metadata": {},
   "source": [
    "### Notes:\n",
    "\n",
    "In the previous job, i finished the first step: downsample every cell to 10,000 reads. This process takes about 24 \n",
    "hours. So i submit it as a job onto cluster and saved the complete matrix.\n",
    "\n",
    "I will continue to the following steps in this file."
   ]
  },
  {
   "cell_type": "markdown",
   "metadata": {},
   "source": [
    "### 2. Gene Filter. throw out genes ($\\mu < 0.05$ and $\\sigma < 0.05$)"
   ]
  },
  {
   "cell_type": "markdown",
   "metadata": {},
   "source": [
    "**2.0 read the previous matrix, check if it has been downsampled**"
   ]
  },
  {
   "cell_type": "code",
   "execution_count": 2,
   "metadata": {},
   "outputs": [],
   "source": [
    "from scipy.io import mmread\n",
    "import scipy as sp\n",
    "import numpy as np\n",
    "import matplotlib.pyplot as plt\n",
    "from tqdm import tqdm\n",
    "from time import time"
   ]
  },
  {
   "cell_type": "code",
   "execution_count": 10,
   "metadata": {},
   "outputs": [
    {
     "name": "stdout",
     "output_type": "stream",
     "text": [
      "Gene count per cell array, shape: (113803,)\n",
      "max count: 10000\n",
      "min count: 10000\n"
     ]
    }
   ],
   "source": [
    "mtx = mmread(r'2.mtx') # read the result matrix of step 1\n",
    "\n",
    "mtx = mtx.tocsr()\n",
    "\n",
    "genect = np.sum(mtx,axis=0)\n",
    "genect = np.array(genect)[0]\n",
    "\n",
    "print('Gene count per cell array, shape:', genect.shape)\n",
    "print('max count:',genect.max())\n",
    "print('min count:',genect.min())"
   ]
  },
  {
   "cell_type": "markdown",
   "metadata": {},
   "source": [
    "According to the above output, the matrix has already been successfully downsampled"
   ]
  },
  {
   "cell_type": "markdown",
   "metadata": {},
   "source": [
    "**2.1 Calculate and plot the $\\mu$ and $\\sigma$ for each gene**"
   ]
  },
  {
   "cell_type": "markdown",
   "metadata": {},
   "source": [
    "The following functions calculate the mean and standard deviation for every **row** of a sparse matrix.\n",
    "\n",
    "Calculate the standard deviation of a sparse matrix is little tricky, i used the equation:\n",
    "\n",
    "$$\\sigma = \\sqrt{\\text{Var}} = \\sqrt{E(X^2) - E(X)^2}  $$"
   ]
  },
  {
   "cell_type": "code",
   "execution_count": 6,
   "metadata": {},
   "outputs": [],
   "source": [
    "# This Function return the gene i number distribution\n",
    "# from Sparse matrix mtx2\n",
    "# The return value is a 1-D array, which is good for next statistic process \n",
    "\n",
    "def genedisi(mtx2,i):\n",
    "    genei = mtx2[i,:]\n",
    "    genei = genei.todense()\n",
    "    genei = np.array(genei)\n",
    "    genei = np.reshape(genei,[-1])\n",
    "    return(genei)\n",
    "\n",
    "# this function calculate \n",
    "# the mean and standard deviation \n",
    "# for every row of the sparse matrix\n",
    "# The parameter nn means the process divide into small groups of nn number \n",
    "# to finish, which decrease the memory required. Or the kernel will crash down\n",
    "# mtx2 should better be CSR Format \n",
    "def musigma_sp(mtx2,axis=1,nn=20):\n",
    "    \n",
    "    # create array for E(X)2 and E(X2)\n",
    "    mu = np.zeros( mtx2.shape[1-axis] )\n",
    "    sqrmu = np.zeros( mtx2.shape[1-axis] )\n",
    "    \n",
    "    # step number\n",
    "    stepnum = np.int( np.ceil( mtx2.shape[1-axis]/nn ) )\n",
    "    \n",
    "    # use small step, multi times to reduce the memory consumption\n",
    "    for i in tqdm(range(stepnum)):\n",
    "        \n",
    "        # E(X)2\n",
    "        tempmu = np.mean(mtx2[(i*nn):min([(i+1)*nn,mtx2.shape[1-axis]]),:],axis=axis)\n",
    "        tempmu = np.array(tempmu).reshape(-1)\n",
    "        mu[(i*nn) : min([(i+1)*nn,mtx2.shape[1-axis]])]= tempmu  # E(X)\n",
    "        \n",
    "        # E(X2)\n",
    "        sqrmtx2 = mtx2[(i*nn):min([(i+1)*nn,mtx2.shape[1-axis]]),:].copy()\n",
    "        sqrmtx2.data **= 2\n",
    "        temp = np.mean(sqrmtx2,axis=axis)\n",
    "        sqrmu[(i*nn) : min([(i+1)*nn,mtx2.shape[1-axis]])] = np.array(temp).reshape(-1)  # E(X2)\n",
    "    \n",
    "    var = sqrmu - mu**2  # var = E(X2) - E(X)2\n",
    "    sigma = np.sqrt(var)   # standard deviation\n",
    "    \n",
    "    return(mu,sigma)"
   ]
  },
  {
   "cell_type": "code",
   "execution_count": 12,
   "metadata": {},
   "outputs": [
    {
     "name": "stderr",
     "output_type": "stream",
     "text": [
      "100%|██████████| 1473/1473 [00:12<00:00, 119.30it/s]\n"
     ]
    }
   ],
   "source": [
    "mu,sigma = musigma_sp(mtx)"
   ]
  },
  {
   "cell_type": "markdown",
   "metadata": {},
   "source": [
    "Then i plot the distribution of $\\mu$ and $\\sigma$ of every row of the matrix (every gene)."
   ]
  },
  {
   "cell_type": "code",
   "execution_count": 13,
   "metadata": {},
   "outputs": [
    {
     "data": {
      "image/png": "[encoded data removed]",
      "text/plain": [
       "<Figure size 480x320 with 1 Axes>"
      ]
     },
     "metadata": {
      "needs_background": "light"
     },
     "output_type": "display_data"
    },
    {
     "data": {
      "image/png": "[encoded data removed]",
      "text/plain": [
       "<Figure size 480x320 with 1 Axes>"
      ]
     },
     "metadata": {
      "needs_background": "light"
     },
     "output_type": "display_data"
    }
   ],
   "source": [
    "# plot the distribution of mu and sigma\n",
    "\n",
    "plt.figure(dpi=80)\n",
    "plt.title(r'mean value $\\mu$ distribution',fontsize=18)\n",
    "plt.xlabel(r'$\\mu$',fontsize=15)\n",
    "plt.ylabel('Number',fontsize=15)\n",
    "plt.yscale('log')\n",
    "plt.hist(mu,range=[0,1.5],bins=100)\n",
    "plt.plot([0.05,0.05],[0,10000],'r--',label ='$\\mu = 0.05$')\n",
    "plt.legend(fontsize=15)\n",
    "plt.show()\n",
    "\n",
    "plt.figure(dpi=80)\n",
    "plt.title(r'deviation $\\sigma$ distribution',fontsize=18)\n",
    "plt.xlabel(r'$\\sigma$',fontsize=15)\n",
    "plt.ylabel('Number',fontsize=15)\n",
    "plt.yscale('log')\n",
    "plt.hist(sigma,range=[0,1.5],bins=100)\n",
    "plt.plot([0.05,0.05],[0,10000],'r--',label ='$\\sigma = 0.05$')\n",
    "plt.legend(fontsize=15)\n",
    "plt.show()"
   ]
  },
  {
   "cell_type": "markdown",
   "metadata": {},
   "source": [
    "**2.2 Filter out those with $\\mu < 0.05$ and $\\sigma < 0.05$**"
   ]
  },
  {
   "cell_type": "code",
   "execution_count": 14,
   "metadata": {},
   "outputs": [
    {
     "name": "stdout",
     "output_type": "stream",
     "text": [
      "15061\n"
     ]
    }
   ],
   "source": [
    "# drop those with mu < 0.05 and sigma < 0.05\n",
    "w = np.where((mu > 0.05) | (sigma > 0.05))\n",
    "\n",
    "print(np.size(w))\n",
    "\n",
    "w = tuple(np.array(w).reshape(-1))\n",
    "\n",
    "mtx = mtx[w,:]"
   ]
  },
  {
   "cell_type": "code",
   "execution_count": 15,
   "metadata": {},
   "outputs": [],
   "source": [
    "sp.io.mmwrite(r'3.mtx',mtx,field='integer') # save the matrix"
   ]
  },
  {
   "cell_type": "markdown",
   "metadata": {},
   "source": [
    "### 3. $\\log_2{(1+X)}$"
   ]
  },
  {
   "cell_type": "code",
   "execution_count": 3,
   "metadata": {},
   "outputs": [],
   "source": [
    "mtx = mmread(r'3.mtx').tocsr()"
   ]
  },
  {
   "cell_type": "code",
   "execution_count": 4,
   "metadata": {},
   "outputs": [],
   "source": [
    "from math import log,e\n",
    "a = log(e,2)\n",
    "mtx = mtx.multiply(a)  # log2(1+X) = log_e(1+X)*log2(e)"
   ]
  },
  {
   "cell_type": "markdown",
   "metadata": {},
   "source": [
    "### 4. z-score Normalization"
   ]
  },
  {
   "cell_type": "markdown",
   "metadata": {},
   "source": [
    "Normalize the matrix along the row. Make the mean and standard deviation for every gene is 0 and 1.\n",
    "\n",
    "In the following codes, i made a proper z-score normalization on all **non-zero** values of the sparse matrix, as a new sparse matrix;  `mtx`\n",
    "\n",
    "Also, i store the z-score normalized “zeros” ($0-\\mu/\\sigma$ for each gene) in another $1\\times N_{genes}$ array. `zsnorm0`"
   ]
  },
  {
   "cell_type": "markdown",
   "metadata": {},
   "source": [
    "**4.1 z-score normailize the nonzeros elements for every gene**"
   ]
  },
  {
   "cell_type": "code",
   "execution_count": 7,
   "metadata": {},
   "outputs": [
    {
     "name": "stderr",
     "output_type": "stream",
     "text": [
      "100%|██████████| 754/754 [00:12<00:00, 60.35it/s]\n"
     ]
    }
   ],
   "source": [
    "# first calculate the mu and sigma for every gene\n",
    "mu,sigma = musigma_sp(mtx)"
   ]
  },
  {
   "cell_type": "markdown",
   "metadata": {},
   "source": [
    "The following function return the sparse matrix, after z-score normalizing all nonzero elements"
   ]
  },
  {
   "cell_type": "code",
   "execution_count": 10,
   "metadata": {
    "scrolled": true
   },
   "outputs": [],
   "source": [
    "# for all nonzero elements, zsn = (z - mu)/sigma\n",
    "# this function is super tricky, about how to subtract a value from the nonzero elements\n",
    "# in sparse matrix\n",
    "# reference to https://stackoverflow.com/questions/19017804/scipy-sparse-matrix-special-substraction?rq=1\n",
    "\n",
    "def zsn_nn(mtx,mu,sigma):\n",
    "    mtx1 = mtx.copy()\n",
    "    # nonzero elements number per row\n",
    "    nnz_per_row = np.diff(mtx.indptr) \n",
    "    \n",
    "    # duplicate the mu and sigam scalar\n",
    "    muall = np.repeat(mu, nnz_per_row)\n",
    "    sigmaall = np.repeat(sigma, nnz_per_row)\n",
    "    \n",
    "    # zsn = (z-mu)/sigma\n",
    "    mtx1.data = (mtx1.data-muall) / sigmaall\n",
    "    \n",
    "    return(mtx1)"
   ]
  },
  {
   "cell_type": "code",
   "execution_count": 11,
   "metadata": {},
   "outputs": [
    {
     "name": "stdout",
     "output_type": "stream",
     "text": [
      "time consumption for the z-score normalization is: 11.767118453979492\n"
     ]
    }
   ],
   "source": [
    "time0 = time()\n",
    "\n",
    "mtx = zsn_nn(mtx,mu,sigma)\n",
    "\n",
    "print('time consumption for the z-score normalization is:',time()-time0)"
   ]
  },
  {
   "cell_type": "markdown",
   "metadata": {},
   "source": [
    "**2.2 store the array of value of 0 after z-score normalization `zsn0`**"
   ]
  },
  {
   "cell_type": "code",
   "execution_count": 12,
   "metadata": {},
   "outputs": [],
   "source": [
    "zsn0 = -mu/sigma"
   ]
  },
  {
   "cell_type": "markdown",
   "metadata": {},
   "source": [
    "**2.3 test the z-score normalization result**"
   ]
  },
  {
   "cell_type": "markdown",
   "metadata": {},
   "source": [
    "Select the gene i for test:"
   ]
  },
  {
   "cell_type": "code",
   "execution_count": 33,
   "metadata": {},
   "outputs": [
    {
     "name": "stdout",
     "output_type": "stream",
     "text": [
      "mean is: 1.9979585375010507e-18\n",
      "stddev is: 0.9999999999999999\n"
     ]
    }
   ],
   "source": [
    "i = 10000\n",
    "test = mtx[i,:]\n",
    "\n",
    "N = test.shape[1] # total elements number\n",
    "N1 = test.data.shape[0] # total nonzero elements number\n",
    "N2 = N - N1 # zero elements number\n",
    "\n",
    "# construnct new array for this \n",
    "newarray = np.concatenate( ( test.data , np.repeat([zsn0[i]],[N2]) ) )\n",
    "\n",
    "# print the mean and stddev of the new array\n",
    "print('mean is:', newarray.mean())\n",
    "print('stddev is:', newarray.std())"
   ]
  },
  {
   "cell_type": "markdown",
   "metadata": {},
   "source": [
    "As shown above, after the z-score normailization, for every gene, $\\mu = 0$ and $\\sigma = 1$"
   ]
  },
  {
   "cell_type": "code",
   "execution_count": 34,
   "metadata": {},
   "outputs": [],
   "source": [
    "sp.io.mmwrite(r'final.mtx',mtx)"
   ]
  },
  {
   "cell_type": "code",
   "execution_count": 37,
   "metadata": {},
   "outputs": [],
   "source": [
    "np.savetxt(r'zsn0.txt',zsn0,fmt='%.18f')"
   ]
  }
 ],
 "metadata": {
  "kernelspec": {
   "display_name": "Python [conda env:test]",
   "language": "python",
   "name": "conda-env-test-py"
  },
  "language_info": {
   "codemirror_mode": {
    "name": "ipython",
    "version": 3
   },
   "file_extension": ".py",
   "mimetype": "text/x-python",
   "name": "python",
   "nbconvert_exporter": "python",
   "pygments_lexer": "ipython3",
   "version": "3.6.9"
  }
 },
 "nbformat": 4,
 "nbformat_minor": 2
}
