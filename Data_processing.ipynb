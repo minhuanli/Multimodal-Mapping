{
 "cells": [
  {
   "cell_type": "markdown",
   "metadata": {},
   "source": [
    "0.1 download sparse mouse single-cell data from https://www.ebi.ac.uk/arrayexpress/experiments/E-MTAB-6967/\n",
    "\n",
    "0.2 Read and Operate the large sparse matrix on the cluster\n",
    "\n",
    "1. down sample to N reads per cell (keep $\\ge 90\\%$ or $100,000$ reads/cell)\n",
    "\n",
    "\n",
    "2. Gene Filter. throw out genes ($\\mu < 0.05 x(M)$ and $\\sigma < 0.05$)\n",
    "\n",
    "\n",
    "3. $\\log_2(1+X)$\n",
    "\n",
    "\n",
    "4. z-score normalize"
   ]
  },
  {
   "cell_type": "markdown",
   "metadata": {},
   "source": [
    "### 1. Preprocessing"
   ]
  },
  {
   "cell_type": "code",
   "execution_count": 1,
   "metadata": {},
   "outputs": [
    {
     "name": "stdout",
     "output_type": "stream",
     "text": [
      "(29452, 139331, 483512215, 'coordinate', 'integer', 'general')\n",
      "0.11782702279423168\n",
      "202262147072\n",
      "24.8\n"
     ]
    }
   ],
   "source": [
    "from scipy.io import mmread,mminfo\n",
    "import psutil\n",
    "\n",
    "# the info of the matrix\n",
    "info = mminfo(r'atlas/raw_counts.mtx')\n",
    "print(info)\n",
    "print(info[2]/(info[0]*info[1]))\n",
    "\n",
    "# read in the matrix\n",
    "data = mmread(r'atlas/raw_counts.mtx')\n",
    "\n",
    "# memory status\n",
    "info = psutil.virtual_memory()\n",
    "print(info.total)\n",
    "print(info.percent)"
   ]
  },
  {
   "cell_type": "code",
   "execution_count": 2,
   "metadata": {},
   "outputs": [],
   "source": [
    "import preprocess as pp"
   ]
  },
  {
   "cell_type": "code",
   "execution_count": 3,
   "metadata": {},
   "outputs": [
    {
     "name": "stderr",
     "output_type": "stream",
     "text": [
      "100%|██████████| 113803/113803 [42:33<00:00, 44.58it/s]\n"
     ]
    }
   ],
   "source": [
    "mtx= pp.downsample(data,M=10000)"
   ]
  },
  {
   "cell_type": "code",
   "execution_count": 4,
   "metadata": {},
   "outputs": [],
   "source": [
    "import numpy as np\n",
    "genect = np.sum(mtx,axis=0)\n",
    "genect = np.array(genect)[0]"
   ]
  },
  {
   "cell_type": "code",
   "execution_count": 5,
   "metadata": {},
   "outputs": [],
   "source": [
    "mtx = mtx.tocsr()"
   ]
  },
  {
   "cell_type": "code",
   "execution_count": 6,
   "metadata": {},
   "outputs": [
    {
     "name": "stderr",
     "output_type": "stream",
     "text": [
      "100%|██████████| 1473/1473 [00:12<00:00, 120.57it/s]\n"
     ]
    }
   ],
   "source": [
    "mu,sigma = pp.musigma_sp(mtx)"
   ]
  },
  {
   "cell_type": "code",
   "execution_count": 7,
   "metadata": {},
   "outputs": [
    {
     "name": "stdout",
     "output_type": "stream",
     "text": [
      "15025\n"
     ]
    }
   ],
   "source": [
    "# drop those with mu < 0.05 and sigma < 0.05\n",
    "w = np.where((mu > 0.05) | (sigma > 0.05))\n",
    "\n",
    "print(np.size(w))\n",
    "\n",
    "w = tuple(np.array(w).reshape(-1))\n",
    "\n",
    "mtx = mtx[w,:]"
   ]
  },
  {
   "cell_type": "code",
   "execution_count": 8,
   "metadata": {},
   "outputs": [],
   "source": [
    "mtx = pp.lognorm(mtx)"
   ]
  },
  {
   "cell_type": "code",
   "execution_count": 9,
   "metadata": {},
   "outputs": [
    {
     "name": "stderr",
     "output_type": "stream",
     "text": [
      "100%|██████████| 752/752 [00:11<00:00, 64.08it/s]\n"
     ]
    }
   ],
   "source": [
    "mu,sigma = pp.musigma_sp(mtx)"
   ]
  },
  {
   "cell_type": "code",
   "execution_count": 6,
   "metadata": {},
   "outputs": [],
   "source": [
    "import numpy as np\n",
    "import scipy as sp\n",
    "mtx = np.load(f'normalized_X/X_noshuffle.npy',allow_pickle=True).all()"
   ]
  },
  {
   "cell_type": "code",
   "execution_count": 2,
   "metadata": {},
   "outputs": [],
   "source": [
    "import preprocess as pp"
   ]
  },
  {
   "cell_type": "code",
   "execution_count": 12,
   "metadata": {},
   "outputs": [
    {
     "name": "stderr",
     "output_type": "stream",
     "text": [
      "100%|██████████| 752/752 [00:12<00:00, 61.14it/s]\n"
     ]
    }
   ],
   "source": [
    "mu,sigma = pp.musigma_sp(mtx)"
   ]
  },
  {
   "cell_type": "code",
   "execution_count": 49,
   "metadata": {},
   "outputs": [],
   "source": [
    "zsn0 = np.load(f'normalized_X/z0value_noshuffle.npy')"
   ]
  },
  {
   "cell_type": "code",
   "execution_count": 7,
   "metadata": {},
   "outputs": [
    {
     "data": {
      "text/plain": [
       "<15025x113803 sparse matrix of type '<class 'numpy.float64'>'\n",
       "\twith 422495286 stored elements in Compressed Sparse Row format>"
      ]
     },
     "execution_count": 7,
     "metadata": {},
     "output_type": "execute_result"
    }
   ],
   "source": [
    "mtx"
   ]
  },
  {
   "cell_type": "code",
   "execution_count": 159,
   "metadata": {},
   "outputs": [],
   "source": [
    "test = mtx[0:10,:].copy()"
   ]
  },
  {
   "cell_type": "code",
   "execution_count": 5,
   "metadata": {},
   "outputs": [
    {
     "name": "stdout",
     "output_type": "stream",
     "text": [
      "mean is: -1.1188567810005883e-16\n",
      "stddev is: 1.0\n"
     ]
    }
   ],
   "source": [
    "i = 1223\n",
    "test = mtx[i,:]\n",
    "\n",
    "N = test.shape[1] # total elements number\n",
    "N1 = test.data.shape[0] # total nonzero elements number\n",
    "N2 = N - N1 # zero elements number\n",
    "\n",
    "# construnct new array for this \n",
    "newarray = np.concatenate( ( test.data , np.repeat([zsn0[i]],[N2]) ) )\n",
    "\n",
    "# print the mean and stddev of the new array\n",
    "print('mean is:', newarray.mean())\n",
    "print('stddev is:', newarray.std())"
   ]
  },
  {
   "cell_type": "code",
   "execution_count": 8,
   "metadata": {},
   "outputs": [],
   "source": [
    "def toarr(mtx,w,zsn):\n",
    "    '''\n",
    "    input: mtx, sparse matrix, [gene num, cell number]\n",
    "    \n",
    "    change the data of cells with indices w in the sparse matrix \n",
    "    to array; also make the zero point into -mu/sigma, for z-score\n",
    "    normalization\n",
    "    \n",
    "    output: np.array, [cell_use number, gene num], already transposed for simple_planes.py\n",
    "    '''\n",
    "    nw = np.size(w)\n",
    "    na = np.zeros([mtx.shape[0],nw])\n",
    "    test = mtx[:,w]\n",
    "    for i in range(mtx.shape[0]):\n",
    "        na[i,:] = zsn0[i]\n",
    "    na[test.nonzero()] = test.data\n",
    "    \n",
    "    return(na.T)"
   ]
  },
  {
   "cell_type": "code",
   "execution_count": 9,
   "metadata": {},
   "outputs": [],
   "source": [
    "def toarr0(mtx,w,zsn):\n",
    "    '''\n",
    "    input: mtx, sparse matrix, [gene num, cell number]\n",
    "    \n",
    "    change the data of genes with indices w in the sparse matrix \n",
    "    to array; also make the zero point into -mu/sigma, for z-score\n",
    "    normalization\n",
    "    \n",
    "    for z-score check\n",
    "    \n",
    "    output: np.array, [gene num,cell_num],\n",
    "\n",
    "    '''\n",
    "    \n",
    "    nw = np.size(w)\n",
    "    na = np.zeros([nw,mtx.shape[1]])\n",
    "    test = mtx[w,:]\n",
    "    for i in range(nw):\n",
    "        na[i,:] = zsn0[w[i]]\n",
    "    na[test.nonzero()] = test.data\n",
    "    \n",
    "    return(na)"
   ]
  },
  {
   "cell_type": "code",
   "execution_count": 81,
   "metadata": {},
   "outputs": [],
   "source": [
    "test = mtx[0:30,:].copy()"
   ]
  },
  {
   "cell_type": "code",
   "execution_count": 10,
   "metadata": {},
   "outputs": [],
   "source": [
    "from tqdm import tqdm\n",
    "\n",
    "def shufflesp_row_all(mtx,nn=20):\n",
    "    '''\n",
    "    shuffle each row of the mtx sparse matrix. \n",
    "    For efficiency, change to lil format first, do shuffle, \n",
    "    then change back to csr format\n",
    "    nn is batch size\n",
    "    \n",
    "    output: shuffled csr matrix\n",
    "    '''\n",
    "    \n",
    "    # step number\n",
    "    stepnum = np.int( np.ceil( mtx.shape[0]/nn ) )\n",
    "    \n",
    "    # use small step, multi times to reduce the memory consumption\n",
    "    \n",
    "    for i in tqdm(range(stepnum)):\n",
    "        \n",
    "        temp = shufflesp_row(mtx[(i*nn):min([(i+1)*nn,mtx.shape[0]]),:])\n",
    "        \n",
    "        if i == 0:\n",
    "            res = temp\n",
    "        else:\n",
    "            res = sp.sparse.vstack([res,temp])\n",
    "        \n",
    "    return(res)\n",
    "\n",
    "\n",
    "def shufflesp_row(mtx):\n",
    "    '''\n",
    "    shuffle each row of the mtx sparse matrix. \n",
    "    For efficiency, change to lil format first, do shuffle, \n",
    "    then change back to csr format\n",
    "    \n",
    "    output: shuffled csr matrix\n",
    "    '''\n",
    "    mtx1 = mtx.tolil()\n",
    "    \n",
    "    ngenes = mtx.shape[0]\n",
    "    \n",
    "    index = np.arange(np.shape(mtx)[1])\n",
    "    \n",
    "    for i in range(ngenes):\n",
    "        np.random.shuffle(index)\n",
    "        mtx1[i,:] = mtx1[i,index]\n",
    "    \n",
    "    return(mtx1.tocsr())"
   ]
  },
  {
   "cell_type": "code",
   "execution_count": 11,
   "metadata": {},
   "outputs": [
    {
     "name": "stderr",
     "output_type": "stream",
     "text": [
      "100%|██████████| 38/38 [1:14:56<00:00, 118.33s/it]\n"
     ]
    }
   ],
   "source": [
    "mtx1 = shufflesp_row_all(mtx,nn=400)"
   ]
  },
  {
   "cell_type": "code",
   "execution_count": 12,
   "metadata": {},
   "outputs": [],
   "source": [
    "np.save(f'normalized_X/X_shuffle.npy',mtx1)"
   ]
  },
  {
   "cell_type": "code",
   "execution_count": 5,
   "metadata": {},
   "outputs": [],
   "source": [
    "import numpy as np\n",
    "from sklearn.tree import DecisionTreeClassifier\n",
    "from sklearn.linear_model import LogisticRegression\n",
    "import sys\n",
    "from scipy import sparse\n",
    "from tqdm import tqdm\n",
    "from sklearn.cluster import KMeans"
   ]
  },
  {
   "cell_type": "code",
   "execution_count": 6,
   "metadata": {},
   "outputs": [],
   "source": [
    "def toarr(mtx,w,zsn):\n",
    "    '''\n",
    "    input: mtx, sparse matrix, [gene num, cell number]\n",
    "    \n",
    "    change the data of cells with indices w in the sparse matrix \n",
    "    to array; also make the zero point into -mu/sigma, for z-score\n",
    "    normalization\n",
    "    \n",
    "    output: np.array, [cell_use number, gene num], already transposed for simple_planes.py\n",
    "    '''\n",
    "    nw = np.size(w)\n",
    "    na = np.zeros([mtx.shape[0],nw])\n",
    "    test = mtx[:,w]\n",
    "    for i in range(mtx.shape[0]):\n",
    "        na[i,:] = zsn[i]\n",
    "    na[test.nonzero()] = test.data\n",
    "    \n",
    "    return(na.T)\n",
    "\n",
    "\n",
    "def plane_cutting(X,trials, cell_sample,cluster_param,zsn):\n",
    "    feature_weights = np.hstack([PCMBK(X,cell_sample,cluster_param,zsn) for k in tqdm(range(trials))])\n",
    "    return feature_weights\n",
    "\n",
    "\n",
    "def PCMBK(X,cell_sample,k_sub,zsn):\n",
    "    n_genes,n_cells = X.shape\n",
    "    cell_use = np.random.choice(np.arange(n_cells),cell_sample,replace = False)\n",
    "    k_sub_i = np.random.randint(k_sub[0],k_sub[1])\n",
    "    #k_guess = KMeans(k_sub_i).fit_predict(X[cell_use,:])\n",
    "    k_guess = KMeans(k_sub_i).fit_predict(toarr(X,cell_use,zsn))\n",
    "    gnout = np.array([one_tree(X,cell_use,k_guess,ikk1,ikk2,zsn) for ikk1 in np.unique(k_guess) for ikk2 in np.unique(k_guess) if ikk1<ikk2 ])\n",
    "    return np.hstack(gnout)\n",
    "\n",
    "\n",
    "def one_tree(X,cu,k_guess,ik1,ik2,zsn,md = 1):\n",
    "    #Xit = X[cu,:]      \n",
    "    Xit = toarr(X,cu,zsn)        \n",
    "    clf = DecisionTreeClassifier(criterion = 'entropy', max_depth = md)\n",
    "    XTT = Xit[np.logical_or(k_guess==ik1,k_guess==ik2),:]\n",
    "    KTT = k_guess[np.logical_or(k_guess==ik1,k_guess==ik2)]\n",
    "    clf.fit(XTT,KTT)\n",
    "    feature_pick = np.flatnonzero(clf.feature_importances_)\n",
    "    return feature_pick"
   ]
  },
  {
   "cell_type": "code",
   "execution_count": 7,
   "metadata": {},
   "outputs": [],
   "source": [
    "X = np.load(f'/n/home06/minhuan/test/Multi_Model_Mapping/normalized_X/X_noshuffle.npy',allow_pickle=True).all()\n",
    "zsn = np.load(f'/n/home06/minhuan/test/Multi_Model_Mapping/normalized_X/z0value_noshuffle.npy')"
   ]
  },
  {
   "cell_type": "code",
   "execution_count": null,
   "metadata": {},
   "outputs": [],
   "source": [
    "iterations = 3000 \n",
    "n_sub = 500\n",
    "CP = [20,75]\n",
    "FW=plane_cutting(X[0:500,:],iterations,n_sub,CP,zsn)\n",
    "#np.save(f'/n/home06/minhuan/test/Multi_Model_Mapping/normalized_X/Out/gx_{ki}.npy',FW)"
   ]
  },
  {
   "cell_type": "code",
   "execution_count": 12,
   "metadata": {},
   "outputs": [],
   "source": [
    "n_genes,n_cells = X[0:1000,:].shape"
   ]
  },
  {
   "cell_type": "code",
   "execution_count": 13,
   "metadata": {},
   "outputs": [
    {
     "data": {
      "text/plain": [
       "1000"
      ]
     },
     "execution_count": 13,
     "metadata": {},
     "output_type": "execute_result"
    }
   ],
   "source": [
    "n_genes"
   ]
  },
  {
   "cell_type": "code",
   "execution_count": 14,
   "metadata": {},
   "outputs": [
    {
     "data": {
      "text/plain": [
       "113803"
      ]
     },
     "execution_count": 14,
     "metadata": {},
     "output_type": "execute_result"
    }
   ],
   "source": [
    "n_cells"
   ]
  },
  {
   "cell_type": "code",
   "execution_count": 29,
   "metadata": {},
   "outputs": [
    {
     "name": "stdout",
     "output_type": "stream",
     "text": [
      "9.45806074142456\n"
     ]
    }
   ],
   "source": [
    "from time import time\n",
    "\n",
    "M=100\n",
    "N=1000\n",
    "time0 = time()\n",
    "\n",
    "XX = X[0:M,:]\n",
    "\n",
    "n_genes,n_cells = XX.shape\n",
    "\n",
    "cell_use = np.random.choice(np.arange(n_cells),N,replace = False)\n",
    "\n",
    "k_sub_i = np.random.randint(20,70)\n",
    "\n",
    "k_guess = KMeans(k_sub_i).fit_predict(toarr(XX,cell_use,zsn))\n",
    "\n",
    "gnout = np.array([one_tree(XX,cell_use,k_guess,ikk1,ikk2,zsn) for ikk1 in np.unique(k_guess) for ikk2 in np.unique(k_guess) if ikk1<ikk2 ])\n",
    "\n",
    "print(time()-time0)"
   ]
  },
  {
   "cell_type": "code",
   "execution_count": 32,
   "metadata": {},
   "outputs": [
    {
     "name": "stderr",
     "output_type": "stream",
     "text": [
      "\n",
      "\n",
      "  0%|          | 0/72 [00:00<?, ?it/s]\u001b[A\u001b[A\n",
      "\n",
      "  1%|▏         | 1/72 [00:01<01:52,  1.58s/it]\u001b[A\u001b[A\n",
      "\n",
      "  3%|▎         | 2/72 [00:17<06:50,  5.87s/it]\u001b[A\u001b[A\n",
      "\n",
      "  4%|▍         | 3/72 [00:33<10:06,  8.79s/it]\u001b[A\u001b[A\n",
      "\n",
      "  6%|▌         | 4/72 [00:37<08:22,  7.40s/it]\u001b[A\u001b[A\n",
      "\n",
      "  7%|▋         | 5/72 [00:52<10:55,  9.79s/it]\u001b[A\u001b[A\n",
      "\n",
      "  8%|▊         | 6/72 [00:54<08:13,  7.47s/it]\u001b[A\u001b[A\n",
      "\n",
      " 10%|▉         | 7/72 [01:01<07:58,  7.37s/it]\u001b[A\u001b[A\n",
      "\n",
      " 11%|█         | 8/72 [01:09<07:57,  7.46s/it]\u001b[A\u001b[A\n",
      "\n",
      " 12%|█▎        | 9/72 [01:15<07:31,  7.17s/it]\u001b[A\u001b[A\n",
      "\n",
      " 14%|█▍        | 10/72 [01:24<07:47,  7.54s/it]\u001b[A\u001b[A\n",
      "\n",
      " 15%|█▌        | 11/72 [01:38<09:47,  9.63s/it]\u001b[A\u001b[A\n",
      "\n",
      " 17%|█▋        | 12/72 [01:49<09:58,  9.97s/it]\u001b[A\u001b[A\n",
      "\n",
      " 18%|█▊        | 13/72 [02:05<11:31, 11.73s/it]\u001b[A\u001b[A\n",
      "\n",
      " 19%|█▉        | 14/72 [02:13<10:24, 10.76s/it]\u001b[A\u001b[A\n",
      "\n",
      " 21%|██        | 15/72 [02:29<11:34, 12.19s/it]\u001b[A\u001b[A\n",
      "\n",
      " 22%|██▏       | 16/72 [02:41<11:17, 12.10s/it]\u001b[A\u001b[A\n",
      "\n",
      " 24%|██▎       | 17/72 [02:51<10:38, 11.61s/it]\u001b[A\u001b[A\n",
      "\n",
      " 25%|██▌       | 18/72 [02:53<07:49,  8.69s/it]\u001b[A\u001b[A\n",
      "\n",
      " 26%|██▋       | 19/72 [03:01<07:26,  8.43s/it]\u001b[A\u001b[A\n",
      "\n",
      " 28%|██▊       | 20/72 [03:03<05:30,  6.35s/it]\u001b[A\u001b[A\n",
      "\n",
      " 29%|██▉       | 21/72 [03:08<05:15,  6.18s/it]\u001b[A\u001b[A\n",
      "\n",
      " 31%|███       | 22/72 [03:17<05:45,  6.91s/it]\u001b[A\u001b[A\n",
      "\n",
      " 32%|███▏      | 23/72 [03:30<07:09,  8.77s/it]\u001b[A\u001b[A\n",
      "\n",
      " 33%|███▎      | 24/72 [03:33<05:41,  7.11s/it]\u001b[A\u001b[A\n",
      "\n",
      " 35%|███▍      | 25/72 [03:41<05:44,  7.33s/it]\u001b[A\u001b[A\n",
      "\n",
      " 36%|███▌      | 26/72 [03:46<05:02,  6.57s/it]\u001b[A\u001b[A\n",
      "\n",
      " 38%|███▊      | 27/72 [03:49<04:14,  5.66s/it]\u001b[A\u001b[A\n",
      "\n",
      " 39%|███▉      | 28/72 [03:57<04:34,  6.24s/it]\u001b[A\u001b[A\n",
      "\n",
      " 40%|████      | 29/72 [04:09<05:43,  7.99s/it]\u001b[A\u001b[A\n",
      "\n",
      " 42%|████▏     | 30/72 [04:12<04:36,  6.58s/it]\u001b[A\u001b[A\n",
      "\n",
      " 43%|████▎     | 31/72 [04:16<03:53,  5.70s/it]\u001b[A\u001b[A\n",
      "\n",
      " 44%|████▍     | 32/72 [04:24<04:11,  6.29s/it]\u001b[A\u001b[A\n",
      "\n",
      " 46%|████▌     | 33/72 [04:27<03:32,  5.45s/it]\u001b[A\u001b[A\n",
      "\n",
      " 47%|████▋     | 34/72 [04:29<02:45,  4.36s/it]\u001b[A\u001b[A\n",
      "\n",
      " 49%|████▊     | 35/72 [04:36<03:08,  5.08s/it]\u001b[A\u001b[A\n",
      "\n",
      " 50%|█████     | 36/72 [04:45<03:42,  6.19s/it]\u001b[A\u001b[A\n",
      "\n",
      " 51%|█████▏    | 37/72 [04:52<03:47,  6.51s/it]\u001b[A\u001b[A\n",
      "\n",
      " 53%|█████▎    | 38/72 [04:56<03:14,  5.71s/it]\u001b[A\u001b[A\n",
      "\n",
      " 54%|█████▍    | 39/72 [04:58<02:32,  4.61s/it]\u001b[A\u001b[A\n",
      "\n",
      " 56%|█████▌    | 40/72 [05:04<02:44,  5.15s/it]\u001b[A\u001b[A\n",
      "\n",
      " 57%|█████▋    | 41/72 [05:08<02:25,  4.68s/it]\u001b[A\u001b[A\n",
      "\n",
      " 58%|█████▊    | 42/72 [05:10<02:00,  4.02s/it]\u001b[A\u001b[A\n",
      "\n",
      " 60%|█████▉    | 43/72 [05:21<02:51,  5.92s/it]\u001b[A\u001b[A\n",
      "\n",
      " 61%|██████    | 44/72 [05:36<04:10,  8.93s/it]\u001b[A\u001b[A\n",
      "\n",
      " 62%|██████▎   | 45/72 [05:50<04:41, 10.41s/it]\u001b[A\u001b[A\n",
      "\n",
      " 64%|██████▍   | 46/72 [05:56<03:51,  8.90s/it]\u001b[A\u001b[A\n",
      "\n",
      " 65%|██████▌   | 47/72 [06:10<04:24, 10.57s/it]\u001b[A\u001b[A\n",
      "\n",
      " 67%|██████▋   | 48/72 [06:14<03:26,  8.60s/it]\u001b[A\u001b[A\n",
      "\n",
      " 68%|██████▊   | 49/72 [06:28<03:55, 10.25s/it]\u001b[A\u001b[A\n",
      "\n",
      " 69%|██████▉   | 50/72 [06:33<03:09,  8.60s/it]\u001b[A\u001b[A\n",
      "\n",
      " 71%|███████   | 51/72 [06:44<03:13,  9.20s/it]\u001b[A\u001b[A\n",
      "\n",
      " 72%|███████▏  | 52/72 [06:53<03:02,  9.11s/it]\u001b[A\u001b[A\n",
      "\n",
      " 74%|███████▎  | 53/72 [06:57<02:25,  7.68s/it]\u001b[A\u001b[A\n",
      "\n",
      " 75%|███████▌  | 54/72 [07:03<02:12,  7.34s/it]\u001b[A\u001b[A\n",
      "\n",
      " 76%|███████▋  | 55/72 [07:13<02:16,  8.03s/it]\u001b[A\u001b[A\n",
      "\n",
      " 78%|███████▊  | 56/72 [07:21<02:05,  7.86s/it]\u001b[A\u001b[A\n",
      "\n",
      " 79%|███████▉  | 57/72 [07:27<01:53,  7.55s/it]\u001b[A\u001b[A\n",
      "\n",
      " 81%|████████  | 58/72 [07:31<01:29,  6.40s/it]\u001b[A\u001b[A\n",
      "\n",
      " 82%|████████▏ | 59/72 [07:35<01:14,  5.70s/it]\u001b[A\u001b[A\n",
      "\n",
      " 83%|████████▎ | 60/72 [07:38<00:56,  4.72s/it]\u001b[A\u001b[A\n",
      "\n",
      " 85%|████████▍ | 61/72 [07:49<01:14,  6.78s/it]\u001b[A\u001b[A\n",
      "\n",
      " 86%|████████▌ | 62/72 [08:01<01:24,  8.44s/it]\u001b[A\u001b[A\n",
      "\n",
      " 88%|████████▊ | 63/72 [08:07<01:08,  7.61s/it]\u001b[A\u001b[A\n",
      "\n",
      " 89%|████████▉ | 64/72 [08:18<01:08,  8.62s/it]\u001b[A\u001b[A\n",
      "\n",
      " 90%|█████████ | 65/72 [08:25<00:55,  7.98s/it]\u001b[A\u001b[A\n",
      "\n",
      " 92%|█████████▏| 66/72 [08:34<00:49,  8.33s/it]\u001b[A\u001b[A\n",
      "\n",
      " 93%|█████████▎| 67/72 [08:40<00:38,  7.61s/it]\u001b[A\u001b[A\n",
      "\n",
      " 94%|█████████▍| 68/72 [08:54<00:38,  9.59s/it]\u001b[A\u001b[A\n",
      "\n",
      " 96%|█████████▌| 69/72 [09:00<00:25,  8.50s/it]\u001b[A\u001b[A\n",
      "\n",
      " 97%|█████████▋| 70/72 [09:08<00:16,  8.40s/it]\u001b[A\u001b[A\n",
      "\n",
      " 99%|█████████▊| 71/72 [09:17<00:08,  8.46s/it]\u001b[A\u001b[A\n",
      "\n",
      "100%|██████████| 72/72 [09:23<00:00,  7.83s/it]\u001b[A\u001b[A\n",
      "\n",
      "\n",
      "  0%|          | 0/72 [00:00<?, ?it/s]\u001b[A\u001b[A\n",
      "\n",
      "  1%|▏         | 1/72 [00:08<09:35,  8.11s/it]\u001b[A\u001b[A\n",
      "\n",
      "  3%|▎         | 2/72 [00:23<12:00, 10.29s/it]\u001b[A\u001b[A\n",
      "\n",
      "  4%|▍         | 3/72 [00:31<10:53,  9.46s/it]\u001b[A\u001b[A\n",
      "\n",
      "  6%|▌         | 4/72 [00:41<11:02,  9.74s/it]\u001b[A\u001b[A\n",
      "\n",
      "  7%|▋         | 5/72 [00:52<11:11, 10.03s/it]\u001b[A\u001b[A\n",
      "\n",
      "  8%|▊         | 6/72 [01:05<12:03, 10.96s/it]\u001b[A\u001b[A\n",
      "\n",
      " 10%|▉         | 7/72 [01:11<10:26,  9.63s/it]\u001b[A\u001b[A\n",
      "\n",
      " 11%|█         | 8/72 [01:13<07:41,  7.21s/it]\u001b[A\u001b[A\n",
      "\n",
      " 12%|█▎        | 9/72 [01:17<06:27,  6.16s/it]\u001b[A\u001b[A\n",
      "\n",
      " 14%|█▍        | 10/72 [01:32<09:09,  8.87s/it]\u001b[A\u001b[A\n",
      "\n",
      " 15%|█▌        | 11/72 [01:34<07:08,  7.03s/it]\u001b[A\u001b[A\n",
      "\n",
      " 17%|█▋        | 12/72 [01:48<09:00,  9.01s/it]\u001b[A\u001b[A\n",
      "\n",
      " 18%|█▊        | 13/72 [01:51<07:03,  7.18s/it]\u001b[A\u001b[A\n",
      "\n",
      " 19%|█▉        | 14/72 [02:05<08:52,  9.17s/it]\u001b[A\u001b[A\n",
      "\n",
      " 21%|██        | 15/72 [02:13<08:30,  8.95s/it]\u001b[A\u001b[A\n",
      "\n",
      " 22%|██▏       | 16/72 [02:23<08:30,  9.12s/it]\u001b[A\u001b[A\n",
      "\n",
      " 24%|██▎       | 17/72 [02:27<06:52,  7.50s/it]\u001b[A\u001b[A\n",
      "\n",
      " 25%|██▌       | 18/72 [02:43<09:08, 10.16s/it]\u001b[A\u001b[A\n",
      "\n",
      " 26%|██▋       | 19/72 [02:59<10:38, 12.05s/it]\u001b[A\u001b[A\n",
      "\n",
      " 28%|██▊       | 20/72 [03:10<10:01, 11.56s/it]\u001b[A\u001b[A\n",
      "\n",
      " 29%|██▉       | 21/72 [03:20<09:26, 11.11s/it]\u001b[A\u001b[A\n",
      "\n",
      " 31%|███       | 22/72 [03:32<09:31, 11.42s/it]\u001b[A\u001b[A\n",
      "\n",
      " 32%|███▏      | 23/72 [03:46<10:03, 12.32s/it]\u001b[A\u001b[A\n",
      "\n",
      " 33%|███▎      | 24/72 [03:48<07:14,  9.06s/it]\u001b[A\u001b[A\n",
      "\n",
      " 35%|███▍      | 25/72 [03:55<06:44,  8.60s/it]\u001b[A\u001b[A\n",
      "\n",
      " 36%|███▌      | 26/72 [03:58<05:10,  6.75s/it]\u001b[A\u001b[A\n",
      "\n",
      " 38%|███▊      | 27/72 [04:13<06:56,  9.25s/it]\u001b[A\u001b[A\n",
      "\n",
      " 39%|███▉      | 28/72 [04:17<05:38,  7.70s/it]\u001b[A\u001b[A\n",
      "\n",
      " 40%|████      | 29/72 [04:20<04:31,  6.32s/it]\u001b[A\u001b[A\n",
      "\n",
      " 42%|████▏     | 30/72 [04:27<04:29,  6.43s/it]\u001b[A\u001b[A\n",
      "\n",
      " 43%|████▎     | 31/72 [04:28<03:23,  4.97s/it]\u001b[A\u001b[A\n",
      "\n",
      " 44%|████▍     | 32/72 [04:33<03:12,  4.82s/it]\u001b[A\u001b[A\n",
      "\n",
      " 46%|████▌     | 33/72 [04:35<02:39,  4.08s/it]\u001b[A\u001b[A\n",
      "\n",
      " 47%|████▋     | 34/72 [04:52<04:57,  7.84s/it]\u001b[A\u001b[A\n",
      "\n",
      " 49%|████▊     | 35/72 [04:54<03:49,  6.20s/it]\u001b[A\u001b[A\n",
      "\n",
      " 50%|█████     | 36/72 [05:09<05:16,  8.79s/it]\u001b[A\u001b[A\n",
      "\n",
      " 51%|█████▏    | 37/72 [05:11<03:59,  6.85s/it]\u001b[A\u001b[A\n",
      "\n",
      " 53%|█████▎    | 38/72 [05:14<03:15,  5.76s/it]\u001b[A\u001b[A\n",
      "\n",
      " 54%|█████▍    | 39/72 [05:23<03:33,  6.47s/it]\u001b[A\u001b[A\n",
      "\n",
      " 56%|█████▌    | 40/72 [05:38<04:48,  9.03s/it]\u001b[A\u001b[A\n",
      "\n",
      " 57%|█████▋    | 41/72 [05:49<04:59,  9.65s/it]\u001b[A\u001b[A\n",
      "\n",
      " 58%|█████▊    | 42/72 [06:05<05:53, 11.77s/it]\u001b[A\u001b[A\n",
      "\n",
      " 60%|█████▉    | 43/72 [06:17<05:38, 11.68s/it]\u001b[A\u001b[A\n",
      "\n",
      " 61%|██████    | 44/72 [06:21<04:22,  9.36s/it]\u001b[A\u001b[A\n",
      "\n",
      " 62%|██████▎   | 45/72 [06:32<04:30, 10.01s/it]\u001b[A\u001b[A\n",
      "\n",
      " 64%|██████▍   | 46/72 [06:37<03:38,  8.41s/it]\u001b[A\u001b[A\n",
      "\n",
      " 65%|██████▌   | 47/72 [06:52<04:19, 10.38s/it]\u001b[A\u001b[A\n",
      "\n",
      " 67%|██████▋   | 48/72 [07:00<03:50,  9.61s/it]\u001b[A\u001b[A\n",
      "\n",
      " 68%|██████▊   | 49/72 [07:10<03:47,  9.88s/it]\u001b[A\u001b[A\n",
      "\n",
      " 69%|██████▉   | 50/72 [07:19<03:31,  9.62s/it]\u001b[A\u001b[A\n",
      "\n",
      " 71%|███████   | 51/72 [07:22<02:35,  7.38s/it]\u001b[A\u001b[A\n",
      "\n",
      " 72%|███████▏  | 52/72 [07:36<03:09,  9.47s/it]\u001b[A\u001b[A\n",
      "\n",
      " 74%|███████▎  | 53/72 [07:49<03:22, 10.65s/it]\u001b[A\u001b[A\n",
      "\n",
      " 75%|███████▌  | 54/72 [07:53<02:36,  8.67s/it]\u001b[A\u001b[A\n",
      "\n",
      " 76%|███████▋  | 55/72 [07:59<02:09,  7.63s/it]\u001b[A\u001b[A\n",
      "\n",
      " 78%|███████▊  | 56/72 [08:05<01:58,  7.43s/it]\u001b[A\u001b[A\n",
      "\n",
      " 79%|███████▉  | 57/72 [08:19<02:17,  9.19s/it]\u001b[A\u001b[A\n",
      "\n",
      " 81%|████████  | 58/72 [08:30<02:19,  9.95s/it]\u001b[A\u001b[A\n",
      "\n",
      " 82%|████████▏ | 59/72 [08:40<02:08,  9.89s/it]\u001b[A\u001b[A\n",
      "\n",
      " 83%|████████▎ | 60/72 [08:53<02:07, 10.62s/it]\u001b[A\u001b[A\n",
      "\n",
      " 85%|████████▍ | 61/72 [09:05<02:04, 11.28s/it]\u001b[A\u001b[A\n",
      "\n",
      " 86%|████████▌ | 62/72 [09:18<01:56, 11.63s/it]\u001b[A\u001b[A\n",
      "\n",
      " 88%|████████▊ | 63/72 [09:26<01:34, 10.47s/it]\u001b[A\u001b[A\n",
      "\n",
      " 89%|████████▉ | 64/72 [09:28<01:04,  8.07s/it]\u001b[A\u001b[A\n",
      "\n",
      " 90%|█████████ | 65/72 [09:42<01:08,  9.75s/it]\u001b[A\u001b[A\n",
      "\n",
      " 92%|█████████▏| 66/72 [09:44<00:45,  7.51s/it]\u001b[A\u001b[A\n",
      "\n",
      " 93%|█████████▎| 67/72 [09:46<00:29,  5.95s/it]\u001b[A\u001b[A\n",
      "\n",
      " 94%|█████████▍| 68/72 [10:00<00:32,  8.18s/it]\u001b[A\u001b[A\n",
      "\n",
      " 96%|█████████▌| 69/72 [10:11<00:27,  9.16s/it]\u001b[A\u001b[A\n",
      "\n",
      " 97%|█████████▋| 70/72 [10:13<00:13,  6.97s/it]\u001b[A\u001b[A\n",
      "\n",
      " 99%|█████████▊| 71/72 [10:19<00:06,  6.79s/it]\u001b[A\u001b[A\n",
      "\n",
      "100%|██████████| 72/72 [10:33<00:00,  8.80s/it]\u001b[A\u001b[A\n",
      "\n",
      "\n",
      "  0%|          | 0/72 [00:00<?, ?it/s]\u001b[A\u001b[A\n",
      "\n",
      "  1%|▏         | 1/72 [00:15<17:50, 15.07s/it]\u001b[A\u001b[A\n",
      "\n",
      "  3%|▎         | 2/72 [00:22<14:51, 12.74s/it]\u001b[A\u001b[A\n",
      "\n",
      "  4%|▍         | 3/72 [00:27<12:04, 10.50s/it]\u001b[A\u001b[A\n",
      "\n",
      "  6%|▌         | 4/72 [00:33<10:23,  9.16s/it]\u001b[A\u001b[A\n",
      "\n",
      "  7%|▋         | 5/72 [00:37<08:17,  7.42s/it]\u001b[A\u001b[A\n",
      "\n",
      "  8%|▊         | 6/72 [00:40<06:49,  6.20s/it]\u001b[A\u001b[A\n",
      "\n",
      " 10%|▉         | 7/72 [00:50<08:04,  7.45s/it]\u001b[A\u001b[A\n",
      "\n",
      " 11%|█         | 8/72 [00:54<06:42,  6.30s/it]\u001b[A\u001b[A\n",
      "\n",
      " 12%|█▎        | 9/72 [00:57<05:31,  5.26s/it]\u001b[A\u001b[A\n",
      "\n",
      " 14%|█▍        | 10/72 [01:00<04:45,  4.60s/it]\u001b[A\u001b[A\n",
      "\n",
      " 15%|█▌        | 11/72 [01:02<03:54,  3.84s/it]\u001b[A\u001b[A\n",
      "\n",
      " 17%|█▋        | 12/72 [01:04<03:23,  3.38s/it]\u001b[A\u001b[A\n",
      "\n",
      " 18%|█▊        | 13/72 [01:06<02:54,  2.96s/it]\u001b[A\u001b[A\n",
      "\n",
      " 19%|█▉        | 14/72 [01:15<04:32,  4.70s/it]\u001b[A\u001b[A\n",
      "\n",
      " 21%|██        | 15/72 [01:17<03:44,  3.95s/it]\u001b[A\u001b[A\n",
      "\n",
      " 22%|██▏       | 16/72 [01:21<03:37,  3.88s/it]\u001b[A\u001b[A\n",
      "\n",
      " 24%|██▎       | 17/72 [01:22<02:52,  3.15s/it]\u001b[A\u001b[A\n",
      "\n",
      " 25%|██▌       | 18/72 [01:24<02:26,  2.71s/it]\u001b[A\u001b[A\n",
      "\n",
      " 26%|██▋       | 19/72 [01:33<04:03,  4.59s/it]\u001b[A\u001b[A\n",
      "\n",
      " 28%|██▊       | 20/72 [01:37<03:52,  4.47s/it]\u001b[A\u001b[A\n",
      "\n",
      " 29%|██▉       | 21/72 [01:40<03:24,  4.02s/it]\u001b[A\u001b[A\n",
      "\n",
      " 31%|███       | 22/72 [01:56<06:12,  7.46s/it]\u001b[A\u001b[A\n",
      "\n",
      " 32%|███▏      | 23/72 [01:58<04:49,  5.90s/it]\u001b[A\u001b[A\n",
      "\n",
      " 33%|███▎      | 24/72 [02:08<05:43,  7.16s/it]\u001b[A\u001b[A\n",
      "\n",
      " 35%|███▍      | 25/72 [02:19<06:27,  8.25s/it]\u001b[A\u001b[A\n",
      "\n",
      " 36%|███▌      | 26/72 [02:22<05:12,  6.80s/it]\u001b[A\u001b[A\n",
      "\n",
      " 38%|███▊      | 27/72 [02:32<05:50,  7.78s/it]\u001b[A\u001b[A\n",
      "\n",
      " 39%|███▉      | 28/72 [02:36<04:54,  6.69s/it]\u001b[A\u001b[A\n",
      "\n",
      " 40%|████      | 29/72 [02:44<05:06,  7.13s/it]\u001b[A\u001b[A\n",
      "\n",
      " 42%|████▏     | 30/72 [02:48<04:13,  6.02s/it]\u001b[A\u001b[A\n",
      "\n",
      " 43%|████▎     | 31/72 [02:56<04:36,  6.75s/it]\u001b[A\u001b[A\n",
      "\n",
      " 44%|████▍     | 32/72 [03:12<06:19,  9.49s/it]\u001b[A\u001b[A\n",
      "\n",
      " 46%|████▌     | 33/72 [03:16<05:04,  7.81s/it]\u001b[A\u001b[A\n",
      "\n",
      " 47%|████▋     | 34/72 [03:23<04:43,  7.46s/it]\u001b[A\u001b[A\n",
      "\n",
      " 49%|████▊     | 35/72 [03:32<04:56,  8.01s/it]\u001b[A\u001b[A\n",
      "\n",
      " 50%|█████     | 36/72 [03:36<03:59,  6.65s/it]\u001b[A\u001b[A\n",
      "\n",
      " 51%|█████▏    | 37/72 [03:37<03:02,  5.21s/it]\u001b[A\u001b[A\n",
      "\n",
      " 53%|█████▎    | 38/72 [03:50<04:16,  7.54s/it]\u001b[A\u001b[A\n",
      "\n",
      " 54%|█████▍    | 39/72 [04:07<05:38, 10.25s/it]\u001b[A\u001b[A\n",
      "\n",
      " 56%|█████▌    | 40/72 [04:18<05:33, 10.41s/it]\u001b[A\u001b[A\n",
      "\n",
      " 57%|█████▋    | 41/72 [04:29<05:30, 10.65s/it]\u001b[A\u001b[A\n",
      "\n",
      " 58%|█████▊    | 42/72 [04:34<04:29,  8.99s/it]\u001b[A\u001b[A\n",
      "\n",
      " 60%|█████▉    | 43/72 [04:36<03:22,  6.99s/it]\u001b[A\u001b[A\n",
      "\n",
      " 61%|██████    | 44/72 [04:50<04:10,  8.94s/it]\u001b[A\u001b[A\n",
      "\n",
      " 62%|██████▎   | 45/72 [04:53<03:14,  7.21s/it]\u001b[A\u001b[A\n",
      "\n",
      " 64%|██████▍   | 46/72 [04:57<02:44,  6.33s/it]\u001b[A\u001b[A\n",
      "\n",
      " 65%|██████▌   | 47/72 [05:07<03:06,  7.48s/it]\u001b[A\u001b[A\n",
      "\n",
      " 67%|██████▋   | 48/72 [05:17<03:16,  8.17s/it]\u001b[A\u001b[A\n",
      "\n",
      " 68%|██████▊   | 49/72 [05:33<03:59, 10.43s/it]\u001b[A\u001b[A\n",
      "\n",
      " 69%|██████▉   | 50/72 [05:37<03:07,  8.53s/it]\u001b[A\u001b[A\n",
      "\n",
      " 71%|███████   | 51/72 [05:39<02:20,  6.69s/it]\u001b[A\u001b[A\n",
      "\n",
      " 72%|███████▏  | 52/72 [05:44<02:00,  6.02s/it]\u001b[A\u001b[A\n",
      "\n",
      " 74%|███████▎  | 53/72 [05:58<02:39,  8.42s/it]\u001b[A\u001b[A\n",
      "\n",
      " 75%|███████▌  | 54/72 [06:06<02:28,  8.26s/it]\u001b[A\u001b[A\n",
      "\n",
      " 76%|███████▋  | 55/72 [06:20<02:50, 10.04s/it]\u001b[A\u001b[A\n",
      "\n",
      " 78%|███████▊  | 56/72 [06:23<02:05,  7.85s/it]\u001b[A\u001b[A\n",
      "\n",
      " 79%|███████▉  | 57/72 [06:33<02:09,  8.60s/it]\u001b[A\u001b[A\n",
      "\n",
      " 81%|████████  | 58/72 [06:46<02:20, 10.03s/it]\u001b[A\u001b[A\n",
      "\n",
      " 82%|████████▏ | 59/72 [06:59<02:21, 10.85s/it]\u001b[A\u001b[A\n",
      "\n",
      " 83%|████████▎ | 60/72 [07:02<01:40,  8.38s/it]\u001b[A\u001b[A\n",
      "\n",
      " 85%|████████▍ | 61/72 [07:04<01:11,  6.47s/it]\u001b[A\u001b[A\n",
      "\n",
      " 86%|████████▌ | 62/72 [07:09<00:59,  5.99s/it]\u001b[A\u001b[A\n",
      "\n",
      " 88%|████████▊ | 63/72 [07:11<00:43,  4.83s/it]\u001b[A\u001b[A\n",
      "\n",
      " 89%|████████▉ | 64/72 [07:18<00:43,  5.45s/it]\u001b[A\u001b[A\n",
      "\n",
      " 90%|█████████ | 65/72 [07:20<00:30,  4.42s/it]\u001b[A\u001b[A\n",
      "\n",
      " 92%|█████████▏| 66/72 [07:36<00:47,  7.84s/it]\u001b[A\u001b[A\n",
      "\n",
      " 93%|█████████▎| 67/72 [07:48<00:45,  9.17s/it]\u001b[A\u001b[A\n",
      "\n",
      " 94%|█████████▍| 68/72 [08:02<00:43, 10.80s/it]\u001b[A\u001b[A\n",
      "\n",
      " 96%|█████████▌| 69/72 [08:13<00:32, 10.82s/it]\u001b[A\u001b[A\n",
      "\n",
      " 97%|█████████▋| 70/72 [08:15<00:16,  8.17s/it]\u001b[A\u001b[A\n",
      "\n",
      " 99%|█████████▊| 71/72 [08:30<00:10, 10.18s/it]\u001b[A\u001b[A\n",
      "\n",
      "100%|██████████| 72/72 [08:43<00:00,  7.27s/it]\u001b[A\u001b[A\n",
      "\n",
      "\n",
      "  0%|          | 0/72 [00:00<?, ?it/s]\u001b[A\u001b[A\n",
      "\n",
      "  1%|▏         | 1/72 [00:05<06:01,  5.10s/it]\u001b[A\u001b[A\n",
      "\n",
      "  3%|▎         | 2/72 [00:09<05:41,  4.88s/it]\u001b[A\u001b[A\n",
      "\n",
      "  4%|▍         | 3/72 [00:12<05:01,  4.36s/it]\u001b[A\u001b[A\n",
      "\n",
      "  6%|▌         | 4/72 [00:23<06:59,  6.17s/it]\u001b[A\u001b[A\n",
      "\n",
      "  7%|▋         | 5/72 [00:35<08:52,  7.94s/it]\u001b[A\u001b[A\n",
      "\n",
      "  8%|▊         | 6/72 [00:37<06:44,  6.13s/it]\u001b[A\u001b[A\n",
      "\n",
      " 10%|▉         | 7/72 [00:38<05:08,  4.74s/it]\u001b[A\u001b[A\n",
      "\n",
      " 11%|█         | 8/72 [00:47<06:30,  6.10s/it]\u001b[A\u001b[A\n",
      "\n",
      " 12%|█▎        | 9/72 [00:54<06:37,  6.31s/it]\u001b[A\u001b[A\n",
      "\n",
      " 14%|█▍        | 10/72 [01:07<08:34,  8.30s/it]\u001b[A\u001b[A\n",
      "\n",
      " 15%|█▌        | 11/72 [01:11<07:05,  6.97s/it]\u001b[A\u001b[A\n",
      "\n",
      " 17%|█▋        | 12/72 [01:12<05:21,  5.35s/it]\u001b[A\u001b[A\n",
      "\n",
      " 18%|█▊        | 13/72 [01:28<08:23,  8.53s/it]\u001b[A\u001b[A\n",
      "\n",
      " 19%|█▉        | 14/72 [01:34<07:31,  7.79s/it]\u001b[A\u001b[A\n",
      "\n",
      " 21%|██        | 15/72 [01:48<09:04,  9.56s/it]\u001b[A\u001b[A\n",
      "\n",
      " 22%|██▏       | 16/72 [02:00<09:38, 10.33s/it]\u001b[A\u001b[A\n",
      "\n",
      " 24%|██▎       | 17/72 [02:15<10:36, 11.58s/it]\u001b[A\u001b[A\n",
      "\n",
      " 25%|██▌       | 18/72 [02:19<08:28,  9.42s/it]\u001b[A\u001b[A\n",
      "\n",
      " 26%|██▋       | 19/72 [02:23<06:45,  7.66s/it]\u001b[A\u001b[A\n",
      "\n",
      " 28%|██▊       | 20/72 [02:29<06:22,  7.35s/it]\u001b[A\u001b[A\n",
      "\n",
      " 29%|██▉       | 21/72 [02:31<04:49,  5.68s/it]\u001b[A\u001b[A\n",
      "\n",
      " 31%|███       | 22/72 [02:34<04:07,  4.95s/it]\u001b[A\u001b[A\n",
      "\n",
      " 32%|███▏      | 23/72 [02:36<03:14,  3.98s/it]\u001b[A\u001b[A\n",
      "\n",
      " 33%|███▎      | 24/72 [02:43<03:54,  4.89s/it]\u001b[A\u001b[A\n",
      "\n",
      " 35%|███▍      | 25/72 [02:46<03:15,  4.16s/it]\u001b[A\u001b[A\n",
      "\n",
      " 36%|███▌      | 26/72 [02:50<03:12,  4.18s/it]\u001b[A\u001b[A\n",
      "\n",
      " 38%|███▊      | 27/72 [02:58<03:57,  5.27s/it]\u001b[A\u001b[A\n",
      "\n",
      " 39%|███▉      | 28/72 [03:02<03:45,  5.12s/it]\u001b[A\u001b[A\n",
      "\n",
      " 40%|████      | 29/72 [03:09<03:58,  5.55s/it]\u001b[A\u001b[A\n",
      "\n",
      " 42%|████▏     | 30/72 [03:19<04:45,  6.80s/it]\u001b[A\u001b[A\n",
      "\n",
      " 43%|████▎     | 31/72 [03:28<05:08,  7.53s/it]\u001b[A\u001b[A\n",
      "\n",
      " 44%|████▍     | 32/72 [03:33<04:30,  6.76s/it]\u001b[A\u001b[A\n",
      "\n",
      " 46%|████▌     | 33/72 [03:35<03:31,  5.43s/it]\u001b[A\u001b[A\n",
      "\n",
      " 47%|████▋     | 34/72 [03:43<03:54,  6.17s/it]\u001b[A\u001b[A\n",
      "\n",
      " 49%|████▊     | 35/72 [03:47<03:23,  5.51s/it]\u001b[A\u001b[A\n",
      "\n",
      " 50%|█████     | 36/72 [03:51<03:01,  5.05s/it]\u001b[A\u001b[A\n",
      "\n",
      " 51%|█████▏    | 37/72 [03:56<03:00,  5.15s/it]\u001b[A\u001b[A\n",
      "\n",
      " 53%|█████▎    | 38/72 [03:58<02:20,  4.12s/it]\u001b[A\u001b[A\n",
      "\n",
      " 54%|█████▍    | 39/72 [04:00<01:58,  3.60s/it]\u001b[A\u001b[A\n",
      "\n",
      " 56%|█████▌    | 40/72 [04:02<01:38,  3.08s/it]\u001b[A\u001b[A\n",
      "\n",
      " 57%|█████▋    | 41/72 [04:14<02:59,  5.79s/it]\u001b[A\u001b[A\n",
      "\n",
      " 58%|█████▊    | 42/72 [04:25<03:39,  7.31s/it]\u001b[A\u001b[A\n",
      "\n",
      " 60%|█████▉    | 43/72 [04:33<03:32,  7.34s/it]\u001b[A\u001b[A\n",
      "\n",
      " 61%|██████    | 44/72 [04:45<04:07,  8.82s/it]\u001b[A\u001b[A\n",
      "\n",
      " 62%|██████▎   | 45/72 [04:47<03:06,  6.89s/it]\u001b[A\u001b[A\n",
      "\n",
      " 64%|██████▍   | 46/72 [04:51<02:34,  5.96s/it]\u001b[A\u001b[A\n",
      "\n",
      " 65%|██████▌   | 47/72 [04:55<02:14,  5.37s/it]\u001b[A\u001b[A\n",
      "\n",
      " 67%|██████▋   | 48/72 [04:58<01:52,  4.70s/it]\u001b[A\u001b[A\n",
      "\n",
      " 68%|██████▊   | 49/72 [05:10<02:37,  6.83s/it]\u001b[A\u001b[A\n",
      "\n",
      " 69%|██████▉   | 50/72 [05:14<02:07,  5.80s/it]\u001b[A\u001b[A\n",
      "\n",
      " 71%|███████   | 51/72 [05:19<01:59,  5.71s/it]\u001b[A\u001b[A\n",
      "\n",
      " 72%|███████▏  | 52/72 [05:25<01:57,  5.90s/it]\u001b[A\u001b[A\n",
      "\n",
      " 74%|███████▎  | 53/72 [05:28<01:35,  5.05s/it]\u001b[A\u001b[A\n",
      "\n",
      " 75%|███████▌  | 54/72 [05:44<02:28,  8.25s/it]\u001b[A\u001b[A\n",
      "\n",
      " 76%|███████▋  | 55/72 [05:53<02:24,  8.50s/it]\u001b[A\u001b[A\n",
      "\n",
      " 78%|███████▊  | 56/72 [06:05<02:30,  9.41s/it]\u001b[A\u001b[A\n",
      "\n",
      " 79%|███████▉  | 57/72 [06:13<02:15,  9.02s/it]\u001b[A\u001b[A\n",
      "\n",
      " 81%|████████  | 58/72 [06:16<01:42,  7.30s/it]\u001b[A\u001b[A\n",
      "\n",
      " 82%|████████▏ | 59/72 [06:19<01:19,  6.10s/it]\u001b[A\u001b[A\n",
      "\n",
      " 83%|████████▎ | 60/72 [06:36<01:49,  9.14s/it]\u001b[A\u001b[A\n",
      "\n",
      " 85%|████████▍ | 61/72 [06:53<02:07, 11.56s/it]\u001b[A\u001b[A\n",
      "\n",
      " 86%|████████▌ | 62/72 [07:00<01:42, 10.29s/it]\u001b[A\u001b[A\n",
      "\n",
      " 88%|████████▊ | 63/72 [07:11<01:33, 10.38s/it]\u001b[A\u001b[A\n",
      "\n",
      " 89%|████████▉ | 64/72 [07:13<01:04,  8.08s/it]\u001b[A\u001b[A\n",
      "\n",
      " 90%|█████████ | 65/72 [07:26<01:05,  9.33s/it]\u001b[A\u001b[A\n",
      "\n",
      " 92%|█████████▏| 66/72 [07:34<00:54,  9.15s/it]\u001b[A\u001b[A\n",
      "\n",
      " 93%|█████████▎| 67/72 [07:50<00:54, 10.92s/it]\u001b[A\u001b[A\n",
      "\n",
      " 94%|█████████▍| 68/72 [07:53<00:34,  8.75s/it]\u001b[A\u001b[A\n",
      "\n",
      " 96%|█████████▌| 69/72 [07:56<00:20,  6.82s/it]\u001b[A\u001b[A\n",
      "\n",
      " 97%|█████████▋| 70/72 [08:06<00:15,  7.79s/it]\u001b[A\u001b[A\n",
      "\n",
      " 99%|█████████▊| 71/72 [08:10<00:06,  6.86s/it]\u001b[A\u001b[A\n",
      "\n",
      "100%|██████████| 72/72 [08:13<00:00,  6.85s/it]\u001b[A\u001b[A\n",
      "\n",
      "\n",
      "  0%|          | 0/72 [00:00<?, ?it/s]\u001b[A\u001b[A\n",
      "\n",
      "  1%|▏         | 1/72 [00:09<11:40,  9.87s/it]\u001b[A\u001b[A\n",
      "\n",
      "  3%|▎         | 2/72 [00:11<08:38,  7.40s/it]\u001b[A\u001b[A\n",
      "\n",
      "  4%|▍         | 3/72 [00:18<08:17,  7.21s/it]\u001b[A\u001b[A\n",
      "\n",
      "  6%|▌         | 4/72 [00:33<10:45,  9.50s/it]\u001b[A\u001b[A\n",
      "\n",
      "  7%|▋         | 5/72 [00:36<08:29,  7.61s/it]\u001b[A\u001b[A\n",
      "\n"
     ]
    },
    {
     "name": "stderr",
     "output_type": "stream",
     "text": [
      "  8%|▊         | 6/72 [00:38<06:39,  6.05s/it]\u001b[A\u001b[A\n",
      "\n",
      " 10%|▉         | 7/72 [00:44<06:30,  6.01s/it]\u001b[A\u001b[A\n",
      "\n",
      " 11%|█         | 8/72 [00:57<08:33,  8.02s/it]\u001b[A\u001b[A\n",
      "\n",
      " 12%|█▎        | 9/72 [01:08<09:18,  8.87s/it]\u001b[A\u001b[A\n",
      "\n",
      " 14%|█▍        | 10/72 [01:13<08:04,  7.81s/it]\u001b[A\u001b[A\n",
      "\n",
      " 15%|█▌        | 11/72 [01:19<07:28,  7.35s/it]\u001b[A\u001b[A\n",
      "\n",
      " 17%|█▋        | 12/72 [01:28<07:38,  7.64s/it]\u001b[A\u001b[A\n",
      "\n",
      " 18%|█▊        | 13/72 [01:42<09:35,  9.75s/it]\u001b[A\u001b[A\n",
      "\n",
      " 19%|█▉        | 14/72 [01:57<10:42, 11.08s/it]\u001b[A\u001b[A\n",
      "\n",
      " 21%|██        | 15/72 [02:10<11:19, 11.91s/it]\u001b[A\u001b[A\n",
      "\n",
      " 22%|██▏       | 16/72 [02:24<11:35, 12.42s/it]\u001b[A\u001b[A\n",
      "\n",
      " 24%|██▎       | 17/72 [02:38<11:44, 12.81s/it]\u001b[A\u001b[A\n",
      "\n",
      " 25%|██▌       | 18/72 [02:48<10:56, 12.16s/it]\u001b[A\u001b[A\n",
      "\n",
      " 26%|██▋       | 19/72 [02:50<08:05,  9.15s/it]\u001b[A\u001b[A\n",
      "\n",
      " 28%|██▊       | 20/72 [02:53<06:18,  7.29s/it]\u001b[A\u001b[A\n",
      "\n",
      " 29%|██▉       | 21/72 [03:01<06:15,  7.37s/it]\u001b[A\u001b[A\n",
      "\n",
      " 31%|███       | 22/72 [03:07<05:55,  7.11s/it]\u001b[A\u001b[A\n",
      "\n",
      " 32%|███▏      | 23/72 [03:22<07:44,  9.48s/it]\u001b[A\u001b[A\n",
      "\n",
      " 33%|███▎      | 24/72 [03:32<07:35,  9.49s/it]\u001b[A\u001b[A\n",
      "\n",
      " 35%|███▍      | 25/72 [03:35<05:57,  7.61s/it]\u001b[A\u001b[A\n",
      "\n",
      " 36%|███▌      | 26/72 [03:41<05:27,  7.13s/it]\u001b[A\u001b[A\n",
      "\n",
      " 38%|███▊      | 27/72 [03:47<04:58,  6.63s/it]\u001b[A\u001b[A\n",
      "\n",
      " 39%|███▉      | 28/72 [03:49<03:59,  5.45s/it]\u001b[A\u001b[A\n",
      "\n",
      " 40%|████      | 29/72 [04:06<06:11,  8.65s/it]\u001b[A\u001b[A\n",
      "\n",
      " 42%|████▏     | 30/72 [04:11<05:23,  7.70s/it]\u001b[A\u001b[A\n",
      "\n",
      " 43%|████▎     | 31/72 [04:16<04:39,  6.81s/it]\u001b[A\u001b[A\n",
      "\n",
      " 44%|████▍     | 32/72 [04:17<03:30,  5.25s/it]\u001b[A\u001b[A\n",
      "\n",
      " 46%|████▌     | 33/72 [04:27<04:20,  6.68s/it]\u001b[A\u001b[A\n",
      "\n",
      " 47%|████▋     | 34/72 [04:34<04:16,  6.74s/it]\u001b[A\u001b[A\n",
      "\n",
      " 49%|████▊     | 35/72 [04:42<04:23,  7.13s/it]\u001b[A\u001b[A\n",
      "\n",
      " 50%|█████     | 36/72 [04:45<03:29,  5.82s/it]\u001b[A\u001b[A\n",
      "\n",
      " 51%|█████▏    | 37/72 [04:59<04:48,  8.25s/it]\u001b[A\u001b[A\n",
      "\n",
      " 53%|█████▎    | 38/72 [05:13<05:38,  9.96s/it]\u001b[A\u001b[A\n",
      "\n",
      " 54%|█████▍    | 39/72 [05:22<05:24,  9.82s/it]\u001b[A\u001b[A\n",
      "\n",
      " 56%|█████▌    | 40/72 [05:26<04:15,  8.00s/it]\u001b[A\u001b[A\n",
      "\n",
      " 57%|█████▋    | 41/72 [05:36<04:25,  8.56s/it]\u001b[A\u001b[A\n",
      "\n",
      " 58%|█████▊    | 42/72 [05:46<04:25,  8.84s/it]\u001b[A\u001b[A\n",
      "\n",
      " 60%|█████▉    | 43/72 [05:47<03:15,  6.76s/it]\u001b[A\u001b[A\n",
      "\n",
      " 61%|██████    | 44/72 [05:49<02:28,  5.31s/it]\u001b[A\u001b[A\n",
      "\n",
      " 62%|██████▎   | 45/72 [05:52<01:59,  4.43s/it]\u001b[A\u001b[A\n",
      "\n",
      " 64%|██████▍   | 46/72 [06:00<02:24,  5.55s/it]\u001b[A\u001b[A\n",
      "\n",
      " 65%|██████▌   | 47/72 [06:06<02:26,  5.84s/it]\u001b[A\u001b[A\n",
      "\n",
      " 67%|██████▋   | 48/72 [06:18<02:58,  7.45s/it]\u001b[A\u001b[A\n",
      "\n",
      " 68%|██████▊   | 49/72 [06:23<02:39,  6.93s/it]\u001b[A\u001b[A\n",
      "\n",
      " 69%|██████▉   | 50/72 [06:28<02:18,  6.31s/it]\u001b[A\u001b[A\n",
      "\n",
      " 71%|███████   | 51/72 [06:40<02:48,  8.04s/it]\u001b[A\u001b[A\n",
      "\n",
      " 72%|███████▏  | 52/72 [06:47<02:34,  7.75s/it]\u001b[A\u001b[A\n",
      "\n",
      " 74%|███████▎  | 53/72 [07:01<03:02,  9.63s/it]\u001b[A\u001b[A\n",
      "\n",
      " 75%|███████▌  | 54/72 [07:07<02:33,  8.54s/it]\u001b[A\u001b[A\n",
      "\n",
      " 76%|███████▋  | 55/72 [07:10<01:54,  6.75s/it]\u001b[A\u001b[A\n",
      "\n",
      " 78%|███████▊  | 56/72 [07:12<01:24,  5.27s/it]\u001b[A\u001b[A\n",
      "\n",
      " 79%|███████▉  | 57/72 [07:14<01:05,  4.40s/it]\u001b[A\u001b[A\n",
      "\n",
      " 81%|████████  | 58/72 [07:17<00:55,  3.99s/it]\u001b[A\u001b[A\n",
      "\n",
      " 82%|████████▏ | 59/72 [07:32<01:32,  7.10s/it]\u001b[A\u001b[A\n",
      "\n",
      " 83%|████████▎ | 60/72 [07:37<01:17,  6.48s/it]\u001b[A\u001b[A\n",
      "\n",
      " 85%|████████▍ | 61/72 [07:47<01:24,  7.68s/it]\u001b[A\u001b[A\n",
      "\n",
      " 86%|████████▌ | 62/72 [08:02<01:39,  9.94s/it]\u001b[A\u001b[A\n",
      "\n",
      " 88%|████████▊ | 63/72 [08:13<01:32, 10.23s/it]\u001b[A\u001b[A\n",
      "\n",
      " 89%|████████▉ | 64/72 [08:18<01:09,  8.63s/it]\u001b[A\u001b[A\n",
      "\n",
      " 90%|█████████ | 65/72 [08:22<00:50,  7.27s/it]\u001b[A\u001b[A\n",
      "\n",
      " 92%|█████████▏| 66/72 [08:27<00:39,  6.51s/it]\u001b[A\u001b[A\n",
      "\n",
      " 93%|█████████▎| 67/72 [08:41<00:43,  8.65s/it]\u001b[A\u001b[A\n",
      "\n",
      " 94%|█████████▍| 68/72 [08:54<00:40, 10.02s/it]\u001b[A\u001b[A\n",
      "\n",
      " 96%|█████████▌| 69/72 [08:59<00:25,  8.66s/it]\u001b[A\u001b[A\n",
      "\n",
      " 97%|█████████▋| 70/72 [09:15<00:21, 10.84s/it]\u001b[A\u001b[A\n",
      "\n",
      " 99%|█████████▊| 71/72 [09:17<00:08,  8.23s/it]\u001b[A\u001b[A\n",
      "\n",
      "100%|██████████| 72/72 [09:24<00:00,  7.84s/it]\u001b[A\u001b[A\n"
     ]
    }
   ],
   "source": [
    "for ki in range(5):\n",
    "    X = np.load(f'/n/home06/minhuan/test/Multi_Model_Mapping/normalized_X/X_noshuffle.npy',allow_pickle=True).all()\n",
    "    M = 100\n",
    "    XX = X[0:M,:]\n",
    "    zsn = np.load(f'/n/home06/minhuan/test/Multi_Model_Mapping/normalized_X/z0value_noshuffle.npy')\n",
    "    iterations = 72\n",
    "    n_sub = 1000\n",
    "    CP = [20,75]\n",
    "    FW=plane_cutting(XX,iterations,n_sub,CP,zsn)\n",
    "    np.save(f'/n/home06/minhuan/test/Multi_Model_Mapping/normalized_X/Out/gx_{ki}.npy',FW)"
   ]
  },
  {
   "cell_type": "code",
   "execution_count": 31,
   "metadata": {},
   "outputs": [
    {
     "data": {
      "text/plain": [
       "72.0"
      ]
     },
     "execution_count": 31,
     "metadata": {},
     "output_type": "execute_result"
    }
   ],
   "source": [
    "3600/50"
   ]
  },
  {
   "cell_type": "code",
   "execution_count": 33,
   "metadata": {},
   "outputs": [],
   "source": [
    "base_dir = '/n/home06/minhuan/test/Multi_Model_Mapping/normalized_X/Out/'\n",
    "FW = np.hstack([np.load(base_dir+f'gx_{k}.npy') for k in range(5)])\n",
    "gx,_ = np.histogram(FW, np.arange(FW.max()+1), density = True)\n",
    "\n",
    "FW = np.hstack([np.load(base_dir+f'gs_{k}.npy') for k in range(5)])\n",
    "gs,_ = np.histogram(FW, np.arange(FW.max()+1), density = True)\n",
    "\n",
    "z_d = (gx-gs.mean())/gs.std()"
   ]
  },
  {
   "cell_type": "code",
   "execution_count": 35,
   "metadata": {},
   "outputs": [],
   "source": [
    "w = np.where(z_d > 1)"
   ]
  },
  {
   "cell_type": "code",
   "execution_count": 41,
   "metadata": {},
   "outputs": [
    {
     "data": {
      "text/plain": [
       "(99,)"
      ]
     },
     "execution_count": 41,
     "metadata": {},
     "output_type": "execute_result"
    }
   ],
   "source": [
    "z_d.shape"
   ]
  },
  {
   "cell_type": "code",
   "execution_count": 40,
   "metadata": {},
   "outputs": [],
   "source": [
    "import matplotlib.pyplot as plt"
   ]
  },
  {
   "cell_type": "code",
   "execution_count": 46,
   "metadata": {},
   "outputs": [
    {
     "data": {
      "image/png": "[encoded data removed]",
      "text/plain": [
       "<Figure size 1200x800 with 1 Axes>"
      ]
     },
     "metadata": {
      "needs_background": "light"
     },
     "output_type": "display_data"
    }
   ],
   "source": [
    "plt.figure(dpi=200)\n",
    "plt.scatter(np.arange(99),z_d,s=20)\n",
    "plt.xlabel('Gene ID', fontsize = 15)\n",
    "plt.ylabel('Axis Score',fontsize=15)\n",
    "plt.hlines(1,0,100,colors='r',linestyles='dashed')\n",
    "plt.show()"
   ]
  },
  {
   "cell_type": "code",
   "execution_count": 1,
   "metadata": {},
   "outputs": [],
   "source": [
    "import numpy as np\n",
    "import scipy as sp\n",
    "import matplotlib.pyplot as plt"
   ]
  },
  {
   "cell_type": "code",
   "execution_count": 2,
   "metadata": {},
   "outputs": [],
   "source": [
    "a = np.random.normal(size=113803)"
   ]
  },
  {
   "cell_type": "code",
   "execution_count": 7,
   "metadata": {},
   "outputs": [
    {
     "data": {
      "text/plain": [
       "(array([2.000e+00, 1.000e+00, 4.000e+00, 1.000e+00, 2.000e+00, 5.000e+00,\n",
       "        1.100e+01, 1.000e+01, 1.000e+01, 1.400e+01, 2.100e+01, 3.300e+01,\n",
       "        2.900e+01, 3.900e+01, 6.000e+01, 7.900e+01, 1.070e+02, 1.160e+02,\n",
       "        1.560e+02, 1.720e+02, 2.380e+02, 3.030e+02, 3.770e+02, 4.200e+02,\n",
       "        5.120e+02, 5.990e+02, 7.590e+02, 8.500e+02, 9.520e+02, 1.078e+03,\n",
       "        1.228e+03, 1.426e+03, 1.666e+03, 1.865e+03, 2.076e+03, 2.245e+03,\n",
       "        2.445e+03, 2.716e+03, 2.994e+03, 3.046e+03, 3.245e+03, 3.356e+03,\n",
       "        3.647e+03, 3.617e+03, 3.690e+03, 3.991e+03, 4.073e+03, 3.862e+03,\n",
       "        3.962e+03, 3.831e+03, 3.804e+03, 3.716e+03, 3.651e+03, 3.489e+03,\n",
       "        3.347e+03, 3.147e+03, 3.003e+03, 2.670e+03, 2.583e+03, 2.358e+03,\n",
       "        2.146e+03, 1.902e+03, 1.696e+03, 1.581e+03, 1.341e+03, 1.184e+03,\n",
       "        1.019e+03, 8.730e+02, 7.680e+02, 6.520e+02, 5.370e+02, 4.290e+02,\n",
       "        3.870e+02, 3.190e+02, 2.630e+02, 2.150e+02, 1.680e+02, 1.380e+02,\n",
       "        1.050e+02, 1.020e+02, 5.900e+01, 6.200e+01, 3.700e+01, 2.700e+01,\n",
       "        2.500e+01, 1.300e+01, 1.300e+01, 1.200e+01, 8.000e+00, 6.000e+00,\n",
       "        0.000e+00, 1.000e+00, 0.000e+00, 2.000e+00, 1.000e+00, 1.000e+00,\n",
       "        0.000e+00, 0.000e+00, 0.000e+00, 2.000e+00]),\n",
       " array([-4.1529474 , -4.06583354, -3.97871969, -3.89160583, -3.80449198,\n",
       "        -3.71737812, -3.63026427, -3.54315041, -3.45603656, -3.3689227 ,\n",
       "        -3.28180885, -3.19469499, -3.10758114, -3.02046728, -2.93335343,\n",
       "        -2.84623958, -2.75912572, -2.67201187, -2.58489801, -2.49778416,\n",
       "        -2.4106703 , -2.32355645, -2.23644259, -2.14932874, -2.06221488,\n",
       "        -1.97510103, -1.88798717, -1.80087332, -1.71375946, -1.62664561,\n",
       "        -1.53953175, -1.4524179 , -1.36530404, -1.27819019, -1.19107633,\n",
       "        -1.10396248, -1.01684862, -0.92973477, -0.84262091, -0.75550706,\n",
       "        -0.6683932 , -0.58127935, -0.49416549, -0.40705164, -0.31993778,\n",
       "        -0.23282393, -0.14571007, -0.05859622,  0.02851764,  0.11563149,\n",
       "         0.20274535,  0.2898592 ,  0.37697306,  0.46408691,  0.55120077,\n",
       "         0.63831462,  0.72542848,  0.81254233,  0.89965619,  0.98677004,\n",
       "         1.0738839 ,  1.16099775,  1.24811161,  1.33522546,  1.42233932,\n",
       "         1.50945317,  1.59656703,  1.68368088,  1.77079474,  1.85790859,\n",
       "         1.94502245,  2.0321363 ,  2.11925016,  2.20636401,  2.29347787,\n",
       "         2.38059172,  2.46770558,  2.55481943,  2.64193329,  2.72904714,\n",
       "         2.816161  ,  2.90327485,  2.99038871,  3.07750256,  3.16461642,\n",
       "         3.25173027,  3.33884413,  3.42595798,  3.51307184,  3.60018569,\n",
       "         3.68729955,  3.7744134 ,  3.86152726,  3.94864111,  4.03575497,\n",
       "         4.12286882,  4.20998268,  4.29709653,  4.38421039,  4.47132424,\n",
       "         4.5584381 ]),\n",
       " <a list of 100 Patch objects>)"
      ]
     },
     "execution_count": 7,
     "metadata": {},
     "output_type": "execute_result"
    },
    {
     "data": {
      "image/png": "[encoded data removed]",
      "text/plain": [
       "<Figure size 432x288 with 1 Axes>"
      ]
     },
     "metadata": {
      "needs_background": "light"
     },
     "output_type": "display_data"
    }
   ],
   "source": [
    "plt.hist(a,bins=100)"
   ]
  },
  {
   "cell_type": "code",
   "execution_count": 8,
   "metadata": {},
   "outputs": [],
   "source": [
    "X = np.load(f'/n/home06/minhuan/test/Multi_Model_Mapping/normalized_X/X_noshuffle.npy',allow_pickle=True).all()\n",
    "zsn = np.load(f'/n/home06/minhuan/test/Multi_Model_Mapping/normalized_X/z0value_noshuffle.npy')"
   ]
  },
  {
   "cell_type": "code",
   "execution_count": 9,
   "metadata": {},
   "outputs": [
    {
     "data": {
      "text/plain": [
       "<15025x113803 sparse matrix of type '<class 'numpy.float64'>'\n",
       "\twith 422495286 stored elements in Compressed Sparse Row format>"
      ]
     },
     "execution_count": 9,
     "metadata": {},
     "output_type": "execute_result"
    }
   ],
   "source": [
    "X"
   ]
  },
  {
   "cell_type": "code",
   "execution_count": 16,
   "metadata": {},
   "outputs": [],
   "source": [
    "import sparse_utils as su2"
   ]
  },
  {
   "cell_type": "code",
   "execution_count": 19,
   "metadata": {},
   "outputs": [],
   "source": [
    "test = toarr0(X,[0],zsn)"
   ]
  },
  {
   "cell_type": "code",
   "execution_count": 18,
   "metadata": {},
   "outputs": [],
   "source": [
    "def toarr0(mtx,w,zsn):\n",
    "    '''\n",
    "    input: mtx, sparse matrix, [gene num, cell number]\n",
    "    \n",
    "    change the data of genes with indices w in the sparse matrix \n",
    "    to array; also make the zero point into -mu/sigma, for z-score\n",
    "    normalization\n",
    "    \n",
    "    for z-score check\n",
    "    \n",
    "    output: np.array, [gene num,cell_num],\n",
    "\n",
    "    '''\n",
    "    \n",
    "    nw = np.size(w)\n",
    "    na = np.zeros([nw,mtx.shape[1]])\n",
    "    test = mtx[w,:]\n",
    "    for i in range(nw):\n",
    "        na[i,:] = zsn[w[i]]\n",
    "    na[test.nonzero()] = test.data\n",
    "    \n",
    "    return(na)"
   ]
  },
  {
   "cell_type": "code",
   "execution_count": 35,
   "metadata": {},
   "outputs": [],
   "source": [
    "test = toarr0(X,[1],zsn)"
   ]
  },
  {
   "cell_type": "code",
   "execution_count": 38,
   "metadata": {},
   "outputs": [],
   "source": [
    "null = np.ndarray([100,113803])"
   ]
  },
  {
   "cell_type": "code",
   "execution_count": 39,
   "metadata": {},
   "outputs": [
    {
     "data": {
      "text/plain": [
       "array([[0., 0., 0., ..., 0., 0., 0.],\n",
       "       [0., 0., 0., ..., 0., 0., 0.],\n",
       "       [0., 0., 0., ..., 0., 0., 0.],\n",
       "       ...,\n",
       "       [0., 0., 0., ..., 0., 0., 0.],\n",
       "       [0., 0., 0., ..., 0., 0., 0.],\n",
       "       [0., 0., 0., ..., 0., 0., 0.]])"
      ]
     },
     "execution_count": 39,
     "metadata": {},
     "output_type": "execute_result"
    }
   ],
   "source": [
    "null"
   ]
  },
  {
   "cell_type": "code",
   "execution_count": 41,
   "metadata": {},
   "outputs": [],
   "source": [
    "for i in range(100):\n",
    "    null[i] = a\n"
   ]
  },
  {
   "cell_type": "code",
   "execution_count": 43,
   "metadata": {},
   "outputs": [],
   "source": [
    "np.save(f'/n/home06/minhuan/test/Multi_Model_Mapping/normalized_X/syne_null.npy',null)"
   ]
  },
  {
   "cell_type": "code",
   "execution_count": 2,
   "metadata": {},
   "outputs": [],
   "source": [
    "import numpy as np\n",
    "from sklearn.tree import DecisionTreeClassifier\n",
    "from sklearn.linear_model import LogisticRegression\n",
    "import sys\n",
    "from scipy import sparse\n",
    "from tqdm import tqdm\n",
    "from sklearn.cluster import KMeans\n",
    "\n",
    "def toarr0(mtx,w,zsn):\n",
    "    '''\n",
    "    input: mtx, sparse matrix, [gene num, cell number]\n",
    "    \n",
    "    change the data of genes with indices w in the sparse matrix \n",
    "    to array; also make the zero point into -mu/sigma, for z-score\n",
    "    normalization\n",
    "    \n",
    "    for z-score check\n",
    "    \n",
    "    output: np.array, [gene num,cell_num],\n",
    "\n",
    "    '''\n",
    "    \n",
    "    nw = np.size(w)\n",
    "    na = np.zeros([nw,mtx.shape[1]])\n",
    "    test = mtx[w,:]\n",
    "    for i in range(nw):\n",
    "        na[i,:] = zsn[w[i]]\n",
    "    na[test.nonzero()] = test.data\n",
    "    \n",
    "    return(na)\n",
    "\n",
    "def toarr(mtx,w,zsn):\n",
    "    '''\n",
    "    input: mtx, sparse matrix, [gene num, cell number]\n",
    "    \n",
    "    change the data of cells with indices w in the sparse matrix \n",
    "    to array; also make the zero point into -mu/sigma, for z-score\n",
    "    normalization\n",
    "    \n",
    "    output: np.array, [cell_use number, gene num], already transposed for simple_planes.py\n",
    "    '''\n",
    "    nw = np.size(w)\n",
    "    na = np.zeros([mtx.shape[0],nw])\n",
    "    test = mtx[:,w]\n",
    "    for i in range(mtx.shape[0]):\n",
    "        na[i,:] = zsn[i]\n",
    "    na[test.nonzero()] = test.data\n",
    "    \n",
    "    return(na.T)\n",
    "\n",
    "\n",
    "def plane_cutting(X,trials, cell_sample,cluster_param):\n",
    "    feature_weights = np.hstack([PCMBK(X,cell_sample,cluster_param) for k in tqdm(range(trials))])\n",
    "    return feature_weights\n",
    "\n",
    "\n",
    "def PCMBK(X,cell_sample,k_sub):\n",
    "    n_cells,n_genes = X.shape\n",
    "    cell_use = np.random.choice(np.arange(n_cells),cell_sample,replace = False)\n",
    "    k_sub_i = np.random.randint(k_sub[0],k_sub[1])\n",
    "    k_guess = KMeans(k_sub_i).fit_predict(X[cell_use,:])\n",
    "    #k_guess = KMeans(k_sub_i).fit_predict(toarr(X,cell_use,zsn))\n",
    "    gnout = np.array([one_tree(X,cell_use,k_guess,ikk1,ikk2) for ikk1 in np.unique(k_guess) for ikk2 in np.unique(k_guess) if ikk1<ikk2 ])\n",
    "    return np.hstack(gnout)\n",
    "\n",
    "\n",
    "def one_tree(X,cu,k_guess,ik1,ik2,md = 1):\n",
    "    Xit = X[cu,:]  \n",
    "    #Xit = toarr(X,cu,zsn)        \n",
    "    clf = DecisionTreeClassifier(criterion = 'entropy', max_depth = md)\n",
    "    XTT = Xit[np.logical_or(k_guess==ik1,k_guess==ik2),:]\n",
    "    KTT = k_guess[np.logical_or(k_guess==ik1,k_guess==ik2)]\n",
    "    clf.fit(XTT,KTT)\n",
    "    feature_pick = np.flatnonzero(clf.feature_importances_)\n",
    "    return feature_pick"
   ]
  },
  {
   "cell_type": "code",
   "execution_count": 3,
   "metadata": {},
   "outputs": [],
   "source": [
    "X = np.load(f'/n/home06/minhuan/test/Multi_Model_Mapping/normalized_X/X_noshuffle.npy',allow_pickle=True).all()\n",
    "zsn = np.load(f'/n/home06/minhuan/test/Multi_Model_Mapping/normalized_X/z0value_noshuffle.npy')"
   ]
  },
  {
   "cell_type": "code",
   "execution_count": 5,
   "metadata": {},
   "outputs": [],
   "source": [
    "M = 100\n",
    "XX = toarr0(X,range(M),zsn)\n",
    "XX=XX.T"
   ]
  },
  {
   "cell_type": "code",
   "execution_count": 6,
   "metadata": {},
   "outputs": [
    {
     "data": {
      "text/plain": [
       "(113803, 100)"
      ]
     },
     "execution_count": 6,
     "metadata": {},
     "output_type": "execute_result"
    }
   ],
   "source": [
    "XX.shape"
   ]
  },
  {
   "cell_type": "code",
   "execution_count": null,
   "metadata": {},
   "outputs": [
    {
     "name": "stderr",
     "output_type": "stream",
     "text": [
      "100%|██████████| 100/100 [02:36<00:00,  1.56s/it]\n",
      "100%|██████████| 100/100 [02:28<00:00,  1.49s/it]\n",
      "100%|██████████| 100/100 [02:37<00:00,  1.57s/it]\n",
      "100%|██████████| 100/100 [02:37<00:00,  1.58s/it]\n",
      "100%|██████████| 100/100 [02:42<00:00,  1.62s/it]\n",
      "100%|██████████| 100/100 [02:47<00:00,  1.67s/it]\n",
      "100%|██████████| 100/100 [02:58<00:00,  1.78s/it]\n",
      "100%|██████████| 100/100 [02:47<00:00,  1.67s/it]\n",
      "100%|██████████| 100/100 [02:44<00:00,  1.64s/it]\n",
      "100%|██████████| 100/100 [03:00<00:00,  1.80s/it]\n",
      "100%|██████████| 100/100 [02:49<00:00,  1.69s/it]\n",
      "100%|██████████| 100/100 [03:03<00:00,  1.83s/it]\n",
      "100%|██████████| 100/100 [03:04<00:00,  1.84s/it]\n",
      "100%|██████████| 100/100 [02:45<00:00,  1.66s/it]\n",
      "100%|██████████| 100/100 [02:40<00:00,  1.60s/it]\n",
      "100%|██████████| 100/100 [02:34<00:00,  1.54s/it]\n",
      "100%|██████████| 100/100 [02:53<00:00,  1.74s/it]\n",
      "100%|██████████| 100/100 [02:39<00:00,  1.59s/it]\n",
      "100%|██████████| 100/100 [02:49<00:00,  1.70s/it]\n",
      " 99%|█████████▉| 99/100 [02:36<00:01,  1.16s/it]"
     ]
    }
   ],
   "source": [
    "for ki in range(20):\n",
    "    iterations = 100\n",
    "    n_sub = 1000\n",
    "    CP = [20,75]\n",
    "    FW=plane_cutting(XX,iterations,n_sub,CP)\n",
    "    np.save(f'/n/home06/minhuan/test/Multi_Model_Mapping/normalized_X/Out/gd1_{ki}.npy',FW)"
   ]
  },
  {
   "cell_type": "code",
   "execution_count": null,
   "metadata": {},
   "outputs": [],
   "source": []
  }
 ],
 "metadata": {
  "kernelspec": {
   "display_name": "Python [conda env:test]",
   "language": "python",
   "name": "conda-env-test-py"
  },
  "language_info": {
   "codemirror_mode": {
    "name": "ipython",
    "version": 3
   },
   "file_extension": ".py",
   "mimetype": "text/x-python",
   "name": "python",
   "nbconvert_exporter": "python",
   "pygments_lexer": "ipython3",
   "version": "3.6.9"
  }
 },
 "nbformat": 4,
 "nbformat_minor": 2
}
